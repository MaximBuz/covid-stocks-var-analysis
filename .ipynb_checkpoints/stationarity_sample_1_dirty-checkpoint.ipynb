{
 "cells": [
  {
   "cell_type": "code",
   "execution_count": 1,
   "id": "e2fbfbe2-6e58-4e40-9f7a-a2429b88041a",
   "metadata": {},
   "outputs": [],
   "source": [
    "%matplotlib inline\n",
    "import matplotlib.pyplot as plt\n",
    "import numpy as np\n",
    "import pandas as pd\n",
    "import statsmodels.api as sm"
   ]
  },
  {
   "cell_type": "code",
   "execution_count": 2,
   "id": "a0b420b6-9fd1-4676-ba76-94f8a810cdd0",
   "metadata": {},
   "outputs": [],
   "source": [
    "df_1 = pd.read_csv(\"prepared_data_sample_1.csv\", parse_dates=[\"date\"])\n",
    "df_1 = df_1[df_1[\"date\"]>=pd.to_datetime(\"2020-02-25\")].copy(deep=True)\n",
    "df_2 = pd.read_csv(\"prepared_data_sample_2.csv\", parse_dates=[\"date\"])"
   ]
  },
  {
   "cell_type": "code",
   "execution_count": 3,
   "id": "1f40845e-5de4-482f-a33e-233e61043d1a",
   "metadata": {},
   "outputs": [],
   "source": [
    "#Verschiedene Wachstumsraten für HDAX\n",
    "df_1[\"d_close_pct\"] = ( df_1[\"hdax_close\"] - df_1[\"hdax_close\"].shift(1) ) / df_1[\"hdax_close\"].shift(1)\n",
    "df_1[\"d_close_log\"] = ( np.log(df_1[\"hdax_close\"]) - np.log(df_1[\"hdax_close\"].shift(1)))\n",
    "df_1[\"d_close_diff\"] = ( df_1[\"hdax_close\"] - df_1[\"hdax_close\"].shift(1) )"
   ]
  },
  {
   "cell_type": "code",
   "execution_count": 4,
   "id": "5aee545b-782b-4f77-a835-f6e53fdccc85",
   "metadata": {},
   "outputs": [],
   "source": [
    "#Verschiedene Wachstumsraten für Total Cases\n",
    "df_1[\"d_total_pct\"] = ( df_1[\"total_cases\"] - df_1[\"total_cases\"].shift(1) ) / df_1[\"total_cases\"].shift(1)\n",
    "df_1[\"d_total_log\"] = ( np.log(df_1[\"total_cases\"]) - np.log(df_1[\"total_cases\"].shift(1)))\n",
    "df_1[\"d_total_diff\"] = ( df_1[\"total_cases\"] - df_1[\"total_cases\"].shift(1) )"
   ]
  },
  {
   "cell_type": "code",
   "execution_count": 5,
   "id": "e7e13d0a-88e2-41d7-b018-2a4b1c64c3e2",
   "metadata": {},
   "outputs": [],
   "source": [
    "#Verschiedene Wachstumsraten für New Cases\n",
    "df_1[\"d_new_pct\"] = ( df_1[\"new_cases\"] - df_1[\"new_cases\"].shift(1) ) / df_1[\"new_cases\"].shift(1)\n",
    "df_1[\"d_new_log\"] = ( np.log(df_1[\"new_cases\"]) - np.log(df_1[\"new_cases\"].shift(1)))\n",
    "df_1[\"d_new_diff\"] = ( df_1[\"new_cases\"] - df_1[\"new_cases\"].shift(1) )"
   ]
  },
  {
   "cell_type": "code",
   "execution_count": 6,
   "id": "3c347e56-71d4-41db-b6f0-a61b9342390a",
   "metadata": {},
   "outputs": [],
   "source": [
    "#Verschiedene Wachstumsraten für Containment Index\n",
    "df_1[\"d_containment_pct\"] = ( df_1[\"containment_index\"] - df_1[\"containment_index\"].shift(1) ) / df_1[\"containment_index\"].shift(1)\n",
    "df_1[\"d_containment_log\"] = ( np.log(df_1[\"containment_index\"]) - np.log(df_1[\"containment_index\"].shift(1)))\n",
    "df_1[\"d_containment_diff\"] = ( df_1[\"containment_index\"] - df_1[\"containment_index\"].shift(1) )"
   ]
  },
  {
   "cell_type": "code",
   "execution_count": 7,
   "id": "2749c041-fef9-4916-8f7f-c5361c82892d",
   "metadata": {},
   "outputs": [
    {
     "data": {
      "text/html": [
       "<div>\n",
       "<style scoped>\n",
       "    .dataframe tbody tr th:only-of-type {\n",
       "        vertical-align: middle;\n",
       "    }\n",
       "\n",
       "    .dataframe tbody tr th {\n",
       "        vertical-align: top;\n",
       "    }\n",
       "\n",
       "    .dataframe thead th {\n",
       "        text-align: right;\n",
       "    }\n",
       "</style>\n",
       "<table border=\"1\" class=\"dataframe\">\n",
       "  <thead>\n",
       "    <tr style=\"text-align: right;\">\n",
       "      <th></th>\n",
       "      <th>date</th>\n",
       "      <th>hdax_open</th>\n",
       "      <th>hdax_close</th>\n",
       "      <th>total_cases</th>\n",
       "      <th>new_cases</th>\n",
       "      <th>stringency_index</th>\n",
       "      <th>containment_index</th>\n",
       "      <th>Monday</th>\n",
       "      <th>Tuesday</th>\n",
       "      <th>Wednesday</th>\n",
       "      <th>...</th>\n",
       "      <th>d_close_diff</th>\n",
       "      <th>d_total_pct</th>\n",
       "      <th>d_total_log</th>\n",
       "      <th>d_total_diff</th>\n",
       "      <th>d_new_pct</th>\n",
       "      <th>d_new_log</th>\n",
       "      <th>d_new_diff</th>\n",
       "      <th>d_containment_pct</th>\n",
       "      <th>d_containment_log</th>\n",
       "      <th>d_containment_diff</th>\n",
       "    </tr>\n",
       "  </thead>\n",
       "  <tbody>\n",
       "    <tr>\n",
       "      <th>21</th>\n",
       "      <td>2020-02-25</td>\n",
       "      <td>7315.52</td>\n",
       "      <td>7146.96</td>\n",
       "      <td>17.0</td>\n",
       "      <td>1.0</td>\n",
       "      <td>11.11</td>\n",
       "      <td>16.67</td>\n",
       "      <td>0</td>\n",
       "      <td>1</td>\n",
       "      <td>0</td>\n",
       "      <td>...</td>\n",
       "      <td>NaN</td>\n",
       "      <td>NaN</td>\n",
       "      <td>NaN</td>\n",
       "      <td>NaN</td>\n",
       "      <td>NaN</td>\n",
       "      <td>NaN</td>\n",
       "      <td>NaN</td>\n",
       "      <td>NaN</td>\n",
       "      <td>NaN</td>\n",
       "      <td>NaN</td>\n",
       "    </tr>\n",
       "    <tr>\n",
       "      <th>22</th>\n",
       "      <td>2020-02-26</td>\n",
       "      <td>7080.95</td>\n",
       "      <td>7123.72</td>\n",
       "      <td>27.0</td>\n",
       "      <td>10.0</td>\n",
       "      <td>16.67</td>\n",
       "      <td>20.24</td>\n",
       "      <td>0</td>\n",
       "      <td>0</td>\n",
       "      <td>1</td>\n",
       "      <td>...</td>\n",
       "      <td>-23.24</td>\n",
       "      <td>0.588235</td>\n",
       "      <td>0.462624</td>\n",
       "      <td>10.0</td>\n",
       "      <td>9.000000</td>\n",
       "      <td>2.302585</td>\n",
       "      <td>9.0</td>\n",
       "      <td>0.214157</td>\n",
       "      <td>0.194050</td>\n",
       "      <td>3.57</td>\n",
       "    </tr>\n",
       "    <tr>\n",
       "      <th>23</th>\n",
       "      <td>2020-02-27</td>\n",
       "      <td>7005.96</td>\n",
       "      <td>6890.99</td>\n",
       "      <td>46.0</td>\n",
       "      <td>19.0</td>\n",
       "      <td>16.67</td>\n",
       "      <td>20.24</td>\n",
       "      <td>0</td>\n",
       "      <td>0</td>\n",
       "      <td>0</td>\n",
       "      <td>...</td>\n",
       "      <td>-232.73</td>\n",
       "      <td>0.703704</td>\n",
       "      <td>0.532805</td>\n",
       "      <td>19.0</td>\n",
       "      <td>0.900000</td>\n",
       "      <td>0.641854</td>\n",
       "      <td>9.0</td>\n",
       "      <td>0.000000</td>\n",
       "      <td>0.000000</td>\n",
       "      <td>0.00</td>\n",
       "    </tr>\n",
       "    <tr>\n",
       "      <th>24</th>\n",
       "      <td>2020-02-28</td>\n",
       "      <td>6645.63</td>\n",
       "      <td>6630.07</td>\n",
       "      <td>48.0</td>\n",
       "      <td>2.0</td>\n",
       "      <td>19.44</td>\n",
       "      <td>24.40</td>\n",
       "      <td>0</td>\n",
       "      <td>0</td>\n",
       "      <td>0</td>\n",
       "      <td>...</td>\n",
       "      <td>-260.92</td>\n",
       "      <td>0.043478</td>\n",
       "      <td>0.042560</td>\n",
       "      <td>2.0</td>\n",
       "      <td>-0.894737</td>\n",
       "      <td>-2.251292</td>\n",
       "      <td>-17.0</td>\n",
       "      <td>0.205534</td>\n",
       "      <td>0.186922</td>\n",
       "      <td>4.16</td>\n",
       "    </tr>\n",
       "    <tr>\n",
       "      <th>25</th>\n",
       "      <td>2020-03-02</td>\n",
       "      <td>6738.28</td>\n",
       "      <td>6613.65</td>\n",
       "      <td>159.0</td>\n",
       "      <td>29.0</td>\n",
       "      <td>25.00</td>\n",
       "      <td>27.98</td>\n",
       "      <td>1</td>\n",
       "      <td>0</td>\n",
       "      <td>0</td>\n",
       "      <td>...</td>\n",
       "      <td>-16.42</td>\n",
       "      <td>2.312500</td>\n",
       "      <td>1.197703</td>\n",
       "      <td>111.0</td>\n",
       "      <td>13.500000</td>\n",
       "      <td>2.674149</td>\n",
       "      <td>27.0</td>\n",
       "      <td>0.146721</td>\n",
       "      <td>0.136907</td>\n",
       "      <td>3.58</td>\n",
       "    </tr>\n",
       "  </tbody>\n",
       "</table>\n",
       "<p>5 rows × 24 columns</p>\n",
       "</div>"
      ],
      "text/plain": [
       "         date  hdax_open  hdax_close  total_cases  new_cases  \\\n",
       "21 2020-02-25    7315.52     7146.96         17.0        1.0   \n",
       "22 2020-02-26    7080.95     7123.72         27.0       10.0   \n",
       "23 2020-02-27    7005.96     6890.99         46.0       19.0   \n",
       "24 2020-02-28    6645.63     6630.07         48.0        2.0   \n",
       "25 2020-03-02    6738.28     6613.65        159.0       29.0   \n",
       "\n",
       "    stringency_index  containment_index  Monday  Tuesday  Wednesday  ...  \\\n",
       "21             11.11              16.67       0        1          0  ...   \n",
       "22             16.67              20.24       0        0          1  ...   \n",
       "23             16.67              20.24       0        0          0  ...   \n",
       "24             19.44              24.40       0        0          0  ...   \n",
       "25             25.00              27.98       1        0          0  ...   \n",
       "\n",
       "    d_close_diff  d_total_pct  d_total_log  d_total_diff  d_new_pct  \\\n",
       "21           NaN          NaN          NaN           NaN        NaN   \n",
       "22        -23.24     0.588235     0.462624          10.0   9.000000   \n",
       "23       -232.73     0.703704     0.532805          19.0   0.900000   \n",
       "24       -260.92     0.043478     0.042560           2.0  -0.894737   \n",
       "25        -16.42     2.312500     1.197703         111.0  13.500000   \n",
       "\n",
       "    d_new_log  d_new_diff  d_containment_pct  d_containment_log  \\\n",
       "21        NaN         NaN                NaN                NaN   \n",
       "22   2.302585         9.0           0.214157           0.194050   \n",
       "23   0.641854         9.0           0.000000           0.000000   \n",
       "24  -2.251292       -17.0           0.205534           0.186922   \n",
       "25   2.674149        27.0           0.146721           0.136907   \n",
       "\n",
       "    d_containment_diff  \n",
       "21                 NaN  \n",
       "22                3.57  \n",
       "23                0.00  \n",
       "24                4.16  \n",
       "25                3.58  \n",
       "\n",
       "[5 rows x 24 columns]"
      ]
     },
     "execution_count": 7,
     "metadata": {},
     "output_type": "execute_result"
    }
   ],
   "source": [
    "df_1.head(5)"
   ]
  },
  {
   "cell_type": "markdown",
   "id": "23c13266-72c5-4f09-99b0-fc78c68c7f4d",
   "metadata": {},
   "source": [
    "1. Bei Wachstumsraten ist das Problem, wenn keine new Cases und Nullen. Deswegen angefangen ab dem 25. Februar.\n",
    "2. Man merkt, dass Wachstumsraten anfangs sehr hoch sind, deswegen log Wachstum sehr ungenau\n",
    "--> Also kein log Wachstum für covid_cases und containment verwenden!"
   ]
  },
  {
   "cell_type": "code",
   "execution_count": 8,
   "id": "0a0f034c-46de-4d81-a3f2-168b2d2d4d24",
   "metadata": {},
   "outputs": [],
   "source": [
    "df_1.drop(columns=[\"hdax_open\", \"hdax_close\", \"total_cases\",], inplace=True)"
   ]
  },
  {
   "cell_type": "code",
   "execution_count": 9,
   "id": "bfd7d3cc-7abd-424f-84cb-e65a41f365d9",
   "metadata": {},
   "outputs": [],
   "source": [
    "#ADF-Test um die verschiedenen Zeitreihen auf Stationarität zu prüfen\n",
    "from statsmodels.tsa.stattools import adfuller\n",
    "\n",
    "\n",
    "def adf_test(timeseries):\n",
    "    print(\"Results of Dickey-Fuller Test:\")\n",
    "    dftest = adfuller(timeseries, autolag=\"AIC\")\n",
    "    dfoutput = pd.Series(\n",
    "        dftest[0:4],\n",
    "        index=[\n",
    "            \"Test Statistic\",\n",
    "            \"p-value\",\n",
    "            \"#Lags Used\",\n",
    "            \"Number of Observations Used\",\n",
    "        ],\n",
    "    )\n",
    "    for key, value in dftest[4].items():\n",
    "        dfoutput[\"Critical Value (%s)\" % key] = value\n",
    "    print(dfoutput)\n",
    "\n",
    "    \n",
    "#KPSS-Test um die verschiedenen Zeitreiehen auf Stationarität zu prüfen  \n",
    "from statsmodels.tsa.stattools import kpss\n",
    "\n",
    "\n",
    "def kpss_test(timeseries):\n",
    "    print(\"Results of KPSS Test:\")\n",
    "    kpsstest = kpss(timeseries, regression=\"c\", nlags=\"auto\")\n",
    "    kpss_output = pd.Series(\n",
    "        kpsstest[0:3], index=[\"Test Statistic\", \"p-value\", \"Lags Used\"]\n",
    "    )\n",
    "    for key, value in kpsstest[3].items():\n",
    "        kpss_output[\"Critical Value (%s)\" % key] = value\n",
    "    print(kpss_output)"
   ]
  },
  {
   "cell_type": "markdown",
   "id": "a3985a60-420d-4cc3-a597-e0cfc6c3d148",
   "metadata": {},
   "source": [
    "# 1. HDAX Wachstumsraten auf Stationarität testen"
   ]
  },
  {
   "cell_type": "markdown",
   "id": "fd1eb8bd-78e9-498a-aac2-db351f72e8d6",
   "metadata": {},
   "source": [
    "## 1.1 ADF-Test"
   ]
  },
  {
   "cell_type": "code",
   "execution_count": 11,
   "id": "5e92ddab-14aa-44f1-adf8-398c39143efb",
   "metadata": {},
   "outputs": [
    {
     "name": "stdout",
     "output_type": "stream",
     "text": [
      "Results of Dickey-Fuller Test:\n",
      "Test Statistic                 -2.637632\n",
      "p-value                         0.085466\n",
      "#Lags Used                      6.000000\n",
      "Number of Observations Used    79.000000\n",
      "Critical Value (1%)            -3.515977\n",
      "Critical Value (5%)            -2.898886\n",
      "Critical Value (10%)           -2.586694\n",
      "dtype: float64\n"
     ]
    }
   ],
   "source": [
    "adf_test(df_1[\"d_close_pct\"].dropna())"
   ]
  },
  {
   "cell_type": "markdown",
   "id": "847b75be-822c-4bfb-a47e-66805a6281bf",
   "metadata": {},
   "source": [
    "Based upon the significance level of 0.05 and the p-value of ADF test, the null hypothesis can not be rejected. Hence, the series is non-stationary."
   ]
  },
  {
   "cell_type": "code",
   "execution_count": 12,
   "id": "8d6dfd64-40ce-4362-9ed6-e1f56ead3ef9",
   "metadata": {},
   "outputs": [
    {
     "name": "stdout",
     "output_type": "stream",
     "text": [
      "Results of Dickey-Fuller Test:\n",
      "Test Statistic                 -2.613725\n",
      "p-value                         0.090194\n",
      "#Lags Used                      6.000000\n",
      "Number of Observations Used    79.000000\n",
      "Critical Value (1%)            -3.515977\n",
      "Critical Value (5%)            -2.898886\n",
      "Critical Value (10%)           -2.586694\n",
      "dtype: float64\n"
     ]
    }
   ],
   "source": [
    "adf_test(df_1[\"d_close_log\"].dropna())"
   ]
  },
  {
   "cell_type": "markdown",
   "id": "077f4ba1-5780-48d6-9f81-c963d24cb03e",
   "metadata": {},
   "source": [
    "Based upon the significance level of 0.05 and the p-value of ADF test, the null hypothesis can not be rejected. Hence, the series is non-stationary."
   ]
  },
  {
   "cell_type": "code",
   "execution_count": 13,
   "id": "82c1be90-a281-474f-97aa-2e31ed83af51",
   "metadata": {},
   "outputs": [
    {
     "name": "stdout",
     "output_type": "stream",
     "text": [
      "Results of Dickey-Fuller Test:\n",
      "Test Statistic                 -2.509850\n",
      "p-value                         0.113096\n",
      "#Lags Used                      6.000000\n",
      "Number of Observations Used    79.000000\n",
      "Critical Value (1%)            -3.515977\n",
      "Critical Value (5%)            -2.898886\n",
      "Critical Value (10%)           -2.586694\n",
      "dtype: float64\n"
     ]
    }
   ],
   "source": [
    "adf_test(df_1[\"d_close_diff\"].dropna())"
   ]
  },
  {
   "cell_type": "markdown",
   "id": "b9c71f2a-f8da-4a50-9e29-f19301102256",
   "metadata": {},
   "source": [
    "Based upon the significance level of 0.05 and the p-value of ADF test, the null hypothesis can not be rejected. Hence, the series is non-stationary."
   ]
  },
  {
   "cell_type": "markdown",
   "id": "a86ea31a-d2f5-4864-ada6-947f1e24c278",
   "metadata": {},
   "source": [
    "--> Laut dem ADF ist die %-Wachstumsrate vom HDAX statistisch am signifikantesten nicht stationär. Allerdings nur unter dem 10% Niveau."
   ]
  },
  {
   "cell_type": "markdown",
   "id": "b472678e-54d1-4de5-a204-5b03a90d387c",
   "metadata": {},
   "source": [
    "## 1.2 KPSS-Test"
   ]
  },
  {
   "cell_type": "code",
   "execution_count": 16,
   "id": "14160837-0f73-4586-a684-45f9f517c967",
   "metadata": {},
   "outputs": [
    {
     "name": "stdout",
     "output_type": "stream",
     "text": [
      "Results of KPSS Test:\n",
      "Test Statistic           0.326573\n",
      "p-value                  0.100000\n",
      "Lags Used                3.000000\n",
      "Critical Value (10%)     0.347000\n",
      "Critical Value (5%)      0.463000\n",
      "Critical Value (2.5%)    0.574000\n",
      "Critical Value (1%)      0.739000\n",
      "dtype: float64\n"
     ]
    },
    {
     "name": "stderr",
     "output_type": "stream",
     "text": [
      "/Users/maximbuz/Anaconda/anaconda3/lib/python3.8/site-packages/statsmodels/tsa/stattools.py:1910: InterpolationWarning: The test statistic is outside of the range of p-values available in the\n",
      "look-up table. The actual p-value is greater than the p-value returned.\n",
      "\n",
      "  warnings.warn(\n"
     ]
    }
   ],
   "source": [
    "kpss_test(df_1[\"d_close_pct\"].dropna())"
   ]
  },
  {
   "cell_type": "markdown",
   "id": "c9ed9461-b023-400d-9ab9-af3d17f5d47b",
   "metadata": {},
   "source": [
    "Based upon the significance level of 0.05 and the p-value of KPSS test, there is no evidence for rejecting the null hypothesis in favor of the alternative. Hence, the series is stationary as per the KPSS test.\n",
    "\n",
    "--> KPSS indicates stationarity and ADF indicates non-stationarity - The series is trend stationary. Trend needs to be removed to make series strict stationary. The detrended series is checked for stationarity."
   ]
  },
  {
   "cell_type": "code",
   "execution_count": 17,
   "id": "e7487868-612f-4236-8948-c2822c344257",
   "metadata": {},
   "outputs": [
    {
     "name": "stdout",
     "output_type": "stream",
     "text": [
      "Results of KPSS Test:\n",
      "Test Statistic           0.345759\n",
      "p-value                  0.100000\n",
      "Lags Used                3.000000\n",
      "Critical Value (10%)     0.347000\n",
      "Critical Value (5%)      0.463000\n",
      "Critical Value (2.5%)    0.574000\n",
      "Critical Value (1%)      0.739000\n",
      "dtype: float64\n"
     ]
    },
    {
     "name": "stderr",
     "output_type": "stream",
     "text": [
      "/Users/maximbuz/Anaconda/anaconda3/lib/python3.8/site-packages/statsmodels/tsa/stattools.py:1910: InterpolationWarning: The test statistic is outside of the range of p-values available in the\n",
      "look-up table. The actual p-value is greater than the p-value returned.\n",
      "\n",
      "  warnings.warn(\n"
     ]
    }
   ],
   "source": [
    "kpss_test(df_1[\"d_close_log\"].dropna())"
   ]
  },
  {
   "cell_type": "markdown",
   "id": "5f4591b4-06bf-485e-ae3b-567f5227b7f8",
   "metadata": {},
   "source": [
    "Based upon the significance level of 0.05 and the p-value of KPSS test, there is no evidence for rejecting the null hypothesis in favor of the alternative. Hence, the series is stationary as per the KPSS test.\n",
    "\n",
    "--> KPSS indicates stationarity and ADF indicates non-stationarity - The series is trend stationary. Trend needs to be removed to make series strict stationary. The detrended series is checked for stationarity."
   ]
  },
  {
   "cell_type": "code",
   "execution_count": 18,
   "id": "69cb711c-89f5-4de2-9c3d-52c015743ac0",
   "metadata": {},
   "outputs": [
    {
     "name": "stdout",
     "output_type": "stream",
     "text": [
      "Results of KPSS Test:\n",
      "Test Statistic           0.390086\n",
      "p-value                  0.081428\n",
      "Lags Used                3.000000\n",
      "Critical Value (10%)     0.347000\n",
      "Critical Value (5%)      0.463000\n",
      "Critical Value (2.5%)    0.574000\n",
      "Critical Value (1%)      0.739000\n",
      "dtype: float64\n"
     ]
    }
   ],
   "source": [
    "kpss_test(df_1[\"d_close_diff\"].dropna())"
   ]
  },
  {
   "cell_type": "markdown",
   "id": "1ff30436-f4f0-4c7b-b5ad-b736a26b5654",
   "metadata": {},
   "source": [
    "Based upon the significance level of 0.05 and the p-value of KPSS test, there is no evidence for rejecting the null hypothesis in favor of the alternative. Hence, the series is stationary as per the KPSS test."
   ]
  },
  {
   "cell_type": "markdown",
   "id": "061ad57d-7178-466a-bb0d-f585ee339990",
   "metadata": {},
   "source": [
    "### Frage: Die Log-Wachstumsrate scheint Trendstationär zu sein. Man könnte nun also eine Differenzierung der Wachstumsrate vornehmen, was allerdings die Interpretation stark erschweren würde. Oder aber man arbeitet einfach mit der log- bzw. %-Wachstumsrate weiter, obwohl laut dem ADF Test die Stationarität zum 10% Niveau verworfen werden muss. "
   ]
  },
  {
   "cell_type": "markdown",
   "id": "90017654-0189-46f9-9532-893826b1ad23",
   "metadata": {},
   "source": [
    "# 2. Covid Cases auf Stationarität untersuchen"
   ]
  },
  {
   "cell_type": "markdown",
   "id": "ca3d15ce-dd56-4221-9054-0e3a4c33d65e",
   "metadata": {},
   "source": [
    "## 2.1 ADF-Test"
   ]
  },
  {
   "cell_type": "code",
   "execution_count": 19,
   "id": "acc69045-a5c3-418d-980d-a8090d8407be",
   "metadata": {},
   "outputs": [
    {
     "name": "stdout",
     "output_type": "stream",
     "text": [
      "Results of Dickey-Fuller Test:\n",
      "Test Statistic                 -3.815882\n",
      "p-value                         0.002749\n",
      "#Lags Used                     10.000000\n",
      "Number of Observations Used    75.000000\n",
      "Critical Value (1%)            -3.520713\n",
      "Critical Value (5%)            -2.900925\n",
      "Critical Value (10%)           -2.587781\n",
      "dtype: float64\n"
     ]
    }
   ],
   "source": [
    "adf_test(df_1[\"d_total_pct\"].dropna())"
   ]
  },
  {
   "cell_type": "markdown",
   "id": "f7f75690-e6cb-4075-9038-e1eebe72d6c6",
   "metadata": {},
   "source": [
    "Based upon the significance level of 0.05 and the p-value of ADF test, the null hypothesis can be rejected. Hence, the series is stationary."
   ]
  },
  {
   "cell_type": "code",
   "execution_count": 20,
   "id": "523b2cc9-ed9d-4d81-be5d-e8a919f7d443",
   "metadata": {},
   "outputs": [
    {
     "name": "stdout",
     "output_type": "stream",
     "text": [
      "Results of Dickey-Fuller Test:\n",
      "Test Statistic                 -2.656899\n",
      "p-value                         0.081798\n",
      "#Lags Used                     10.000000\n",
      "Number of Observations Used    75.000000\n",
      "Critical Value (1%)            -3.520713\n",
      "Critical Value (5%)            -2.900925\n",
      "Critical Value (10%)           -2.587781\n",
      "dtype: float64\n"
     ]
    }
   ],
   "source": [
    "adf_test(df_1[\"d_total_log\"].dropna())"
   ]
  },
  {
   "cell_type": "markdown",
   "id": "ad27a29d-5da1-4b8c-a0bf-1c69e145d63d",
   "metadata": {},
   "source": [
    "Based upon the significance level of 0.05 and the p-value of ADF test, the null hypothesis can not be rejected. Hence, the series is non-stationary."
   ]
  },
  {
   "cell_type": "code",
   "execution_count": 21,
   "id": "f3d49f09-65c4-4cb1-92f3-2f3dde4ac536",
   "metadata": {},
   "outputs": [
    {
     "name": "stdout",
     "output_type": "stream",
     "text": [
      "Results of Dickey-Fuller Test:\n",
      "Test Statistic                 -2.035835\n",
      "p-value                         0.271085\n",
      "#Lags Used                      7.000000\n",
      "Number of Observations Used    78.000000\n",
      "Critical Value (1%)            -3.517114\n",
      "Critical Value (5%)            -2.899375\n",
      "Critical Value (10%)           -2.586955\n",
      "dtype: float64\n"
     ]
    }
   ],
   "source": [
    "adf_test(df_1[\"d_total_diff\"].dropna())"
   ]
  },
  {
   "cell_type": "markdown",
   "id": "0a5b7112-5465-4eda-8388-42072c36605f",
   "metadata": {},
   "source": [
    "Based upon the significance level of 0.05 and the p-value of ADF test, the null hypothesis can not be rejected. Hence, the series is non-stationary."
   ]
  },
  {
   "cell_type": "markdown",
   "id": "a09ed9fe-2ac9-41d9-a27e-00fc53b7b8f9",
   "metadata": {},
   "source": [
    "## 2.2 KPSS-Test"
   ]
  },
  {
   "cell_type": "code",
   "execution_count": 22,
   "id": "ecb20d28-e00d-433e-b646-38d1642becca",
   "metadata": {},
   "outputs": [
    {
     "name": "stdout",
     "output_type": "stream",
     "text": [
      "Results of KPSS Test:\n",
      "Test Statistic           1.207636\n",
      "p-value                  0.010000\n",
      "Lags Used                4.000000\n",
      "Critical Value (10%)     0.347000\n",
      "Critical Value (5%)      0.463000\n",
      "Critical Value (2.5%)    0.574000\n",
      "Critical Value (1%)      0.739000\n",
      "dtype: float64\n"
     ]
    },
    {
     "name": "stderr",
     "output_type": "stream",
     "text": [
      "/Users/maximbuz/Anaconda/anaconda3/lib/python3.8/site-packages/statsmodels/tsa/stattools.py:1906: InterpolationWarning: The test statistic is outside of the range of p-values available in the\n",
      "look-up table. The actual p-value is smaller than the p-value returned.\n",
      "\n",
      "  warnings.warn(\n"
     ]
    }
   ],
   "source": [
    "kpss_test(df_1[\"d_total_pct\"].dropna())"
   ]
  },
  {
   "cell_type": "markdown",
   "id": "9a097511-d298-4cfc-b5bf-6a9ee5d09169",
   "metadata": {},
   "source": [
    "Based upon the significance level of 0.05 and the p-value of KPSS test, there is evidence for rejecting the null hypothesis in favor of the alternative. Hence, the series is non-stationary as per the KPSS test."
   ]
  },
  {
   "cell_type": "code",
   "execution_count": 23,
   "id": "2ab2d7cb-b278-4953-95ff-0758e07db38b",
   "metadata": {},
   "outputs": [
    {
     "name": "stdout",
     "output_type": "stream",
     "text": [
      "Results of KPSS Test:\n",
      "Test Statistic           1.13292\n",
      "p-value                  0.01000\n",
      "Lags Used                5.00000\n",
      "Critical Value (10%)     0.34700\n",
      "Critical Value (5%)      0.46300\n",
      "Critical Value (2.5%)    0.57400\n",
      "Critical Value (1%)      0.73900\n",
      "dtype: float64\n"
     ]
    },
    {
     "name": "stderr",
     "output_type": "stream",
     "text": [
      "/Users/maximbuz/Anaconda/anaconda3/lib/python3.8/site-packages/statsmodels/tsa/stattools.py:1906: InterpolationWarning: The test statistic is outside of the range of p-values available in the\n",
      "look-up table. The actual p-value is smaller than the p-value returned.\n",
      "\n",
      "  warnings.warn(\n"
     ]
    }
   ],
   "source": [
    "kpss_test(df_1[\"d_total_log\"].dropna())"
   ]
  },
  {
   "cell_type": "markdown",
   "id": "e8430e70-1704-462f-8949-2d4d9aab2fe4",
   "metadata": {},
   "source": [
    "Based upon the significance level of 0.05 and the p-value of KPSS test, there is evidence for rejecting the null hypothesis in favor of the alternative. Hence, the series is non-stationary as per the KPSS test."
   ]
  },
  {
   "cell_type": "code",
   "execution_count": 31,
   "id": "ce242bce-fd9b-44c7-9bc6-a69f4ba7a3eb",
   "metadata": {},
   "outputs": [
    {
     "name": "stdout",
     "output_type": "stream",
     "text": [
      "Results of KPSS Test:\n",
      "Test Statistic           0.452969\n",
      "p-value                  0.054324\n",
      "Lags Used                5.000000\n",
      "Critical Value (10%)     0.347000\n",
      "Critical Value (5%)      0.463000\n",
      "Critical Value (2.5%)    0.574000\n",
      "Critical Value (1%)      0.739000\n",
      "dtype: float64\n"
     ]
    }
   ],
   "source": [
    "kpss_test(df_1[\"d_total_diff\"].dropna())"
   ]
  },
  {
   "cell_type": "markdown",
   "id": "c59c7b67-6bdc-4846-9c5b-0ff0d2469696",
   "metadata": {},
   "source": [
    "Based upon the significance level of 0.05 and the p-value of KPSS test, there is no evidence for rejecting the null hypothesis in favor of the alternative. Hence, the series is stationary as per the KPSS test."
   ]
  },
  {
   "cell_type": "markdown",
   "id": "1f7bfd0c-4afa-4614-9a66-c3e6c4d80fae",
   "metadata": {},
   "source": [
    "# 3. New Cases auf Stationarität untersuchen"
   ]
  },
  {
   "cell_type": "markdown",
   "id": "3dba4768-fd5b-49f6-9e96-eaf0caaf5c48",
   "metadata": {},
   "source": [
    "## 3.1 ADF-Test"
   ]
  },
  {
   "cell_type": "code",
   "execution_count": 25,
   "id": "8d5c072a-59ce-496d-b01d-24eb5d52bca9",
   "metadata": {},
   "outputs": [
    {
     "name": "stdout",
     "output_type": "stream",
     "text": [
      "Results of Dickey-Fuller Test:\n",
      "Test Statistic                -1.095441e+01\n",
      "p-value                        8.634915e-20\n",
      "#Lags Used                     0.000000e+00\n",
      "Number of Observations Used    8.500000e+01\n",
      "Critical Value (1%)           -3.509736e+00\n",
      "Critical Value (5%)           -2.896195e+00\n",
      "Critical Value (10%)          -2.585258e+00\n",
      "dtype: float64\n"
     ]
    }
   ],
   "source": [
    "adf_test(df_1[\"d_new_pct\"].dropna())"
   ]
  },
  {
   "cell_type": "markdown",
   "id": "80a66c9b-d1fb-45eb-b36c-d70c322ed499",
   "metadata": {},
   "source": [
    "Based upon the significance level of 0.05 and the p-value of ADF test, the null hypothesis can be rejected. Hence, the series is stationary."
   ]
  },
  {
   "cell_type": "code",
   "execution_count": 26,
   "id": "22031117-319f-4b4b-b3ee-a25558e8b58e",
   "metadata": {},
   "outputs": [
    {
     "name": "stdout",
     "output_type": "stream",
     "text": [
      "Results of Dickey-Fuller Test:\n",
      "Test Statistic                 -3.670153\n",
      "p-value                         0.004553\n",
      "#Lags Used                      4.000000\n",
      "Number of Observations Used    81.000000\n",
      "Critical Value (1%)            -3.513790\n",
      "Critical Value (5%)            -2.897943\n",
      "Critical Value (10%)           -2.586191\n",
      "dtype: float64\n"
     ]
    }
   ],
   "source": [
    "adf_test(df_1[\"d_new_log\"].dropna())"
   ]
  },
  {
   "cell_type": "markdown",
   "id": "df34e250-df4c-41a4-a3a1-af728c477e1f",
   "metadata": {},
   "source": [
    "Based upon the significance level of 0.05 and the p-value of ADF test, the null hypothesis can be rejected. Hence, the series is stationary."
   ]
  },
  {
   "cell_type": "code",
   "execution_count": 27,
   "id": "aadf2f5f-9dc2-426e-b359-9b796be7c7c1",
   "metadata": {},
   "outputs": [
    {
     "name": "stdout",
     "output_type": "stream",
     "text": [
      "Results of Dickey-Fuller Test:\n",
      "Test Statistic                 -1.662478\n",
      "p-value                         0.450541\n",
      "#Lags Used                      5.000000\n",
      "Number of Observations Used    80.000000\n",
      "Critical Value (1%)            -3.514869\n",
      "Critical Value (5%)            -2.898409\n",
      "Critical Value (10%)           -2.586439\n",
      "dtype: float64\n"
     ]
    }
   ],
   "source": [
    "adf_test(df_1[\"d_new_diff\"].dropna())"
   ]
  },
  {
   "cell_type": "markdown",
   "id": "9e0eaf44-89e7-40b8-ab82-65ca4fa06b27",
   "metadata": {},
   "source": [
    "Based upon the significance level of 0.05 and the p-value of ADF test, the null hypothesis can be rejected. Hence, the series is stationary."
   ]
  },
  {
   "cell_type": "markdown",
   "id": "01df0173-5c1c-4d0b-a8c5-54f2de0a90e1",
   "metadata": {},
   "source": [
    "## 3.2 KPSS-Test"
   ]
  },
  {
   "cell_type": "code",
   "execution_count": 28,
   "id": "b9ff7a7a-ccc1-4b83-8883-c04b9daf3d67",
   "metadata": {},
   "outputs": [
    {
     "name": "stdout",
     "output_type": "stream",
     "text": [
      "Results of KPSS Test:\n",
      "Test Statistic           0.431997\n",
      "p-value                  0.063363\n",
      "Lags Used                2.000000\n",
      "Critical Value (10%)     0.347000\n",
      "Critical Value (5%)      0.463000\n",
      "Critical Value (2.5%)    0.574000\n",
      "Critical Value (1%)      0.739000\n",
      "dtype: float64\n"
     ]
    }
   ],
   "source": [
    "kpss_test(df_1[\"d_new_pct\"].dropna())"
   ]
  },
  {
   "cell_type": "markdown",
   "id": "4137a4dc-915e-4dc6-ad69-d1732c6e52b0",
   "metadata": {},
   "source": [
    "Based upon the significance level of 0.05 and the p-value of KPSS test, there is no evidence for rejecting the null hypothesis in favor of the alternative. Hence, the series is stationary as per the KPSS test."
   ]
  },
  {
   "cell_type": "code",
   "execution_count": 29,
   "id": "c355cd1c-a5c7-4d52-a382-e99bea14b32b",
   "metadata": {},
   "outputs": [
    {
     "name": "stdout",
     "output_type": "stream",
     "text": [
      "Results of KPSS Test:\n",
      "Test Statistic            0.338039\n",
      "p-value                   0.100000\n",
      "Lags Used                21.000000\n",
      "Critical Value (10%)      0.347000\n",
      "Critical Value (5%)       0.463000\n",
      "Critical Value (2.5%)     0.574000\n",
      "Critical Value (1%)       0.739000\n",
      "dtype: float64\n"
     ]
    },
    {
     "name": "stderr",
     "output_type": "stream",
     "text": [
      "/Users/maximbuz/Anaconda/anaconda3/lib/python3.8/site-packages/statsmodels/tsa/stattools.py:1910: InterpolationWarning: The test statistic is outside of the range of p-values available in the\n",
      "look-up table. The actual p-value is greater than the p-value returned.\n",
      "\n",
      "  warnings.warn(\n"
     ]
    }
   ],
   "source": [
    "kpss_test(df_1[\"d_new_log\"].dropna())"
   ]
  },
  {
   "cell_type": "markdown",
   "id": "3a355624-1dee-4668-8a6f-1985e89cdfaa",
   "metadata": {},
   "source": [
    "Based upon the significance level of 0.05 and the p-value of KPSS test, there is no evidence for rejecting the null hypothesis in favor of the alternative. Hence, the series is stationary as per the KPSS test."
   ]
  },
  {
   "cell_type": "code",
   "execution_count": 30,
   "id": "4d0dd194-492f-47ea-ace5-b9e53cf6bce2",
   "metadata": {},
   "outputs": [
    {
     "name": "stdout",
     "output_type": "stream",
     "text": [
      "Results of KPSS Test:\n",
      "Test Statistic            0.500000\n",
      "p-value                   0.041667\n",
      "Lags Used                85.000000\n",
      "Critical Value (10%)      0.347000\n",
      "Critical Value (5%)       0.463000\n",
      "Critical Value (2.5%)     0.574000\n",
      "Critical Value (1%)       0.739000\n",
      "dtype: float64\n"
     ]
    }
   ],
   "source": [
    "kpss_test(df_1[\"d_new_diff\"].dropna())"
   ]
  },
  {
   "cell_type": "markdown",
   "id": "196a475c-4fa3-474b-954a-f2be32ef9edf",
   "metadata": {},
   "source": [
    "Based upon the significance level of 0.05 and the p-value of KPSS test, there is evidence for rejecting the null hypothesis in favor of the alternative. Hence, the series is non-stationary as per the KPSS test."
   ]
  },
  {
   "cell_type": "markdown",
   "id": "3d416d23-7bf7-4b2c-8e60-4c5fb86c2e60",
   "metadata": {},
   "source": [
    "# 4. Containment Index auf Stationarität prüfen"
   ]
  },
  {
   "cell_type": "markdown",
   "id": "b4d0e492-235a-4361-88e6-d045935c59fa",
   "metadata": {},
   "source": [
    "## 4.1 ADF-Test"
   ]
  },
  {
   "cell_type": "code",
   "execution_count": 32,
   "id": "eadc1c35-e44d-416a-8464-61b6caed3a58",
   "metadata": {},
   "outputs": [
    {
     "name": "stdout",
     "output_type": "stream",
     "text": [
      "Results of Dickey-Fuller Test:\n",
      "Test Statistic                 -3.385961\n",
      "p-value                         0.011447\n",
      "#Lags Used                      4.000000\n",
      "Number of Observations Used    81.000000\n",
      "Critical Value (1%)            -3.513790\n",
      "Critical Value (5%)            -2.897943\n",
      "Critical Value (10%)           -2.586191\n",
      "dtype: float64\n"
     ]
    }
   ],
   "source": [
    "adf_test(df_1[\"d_containment_pct\"].dropna())"
   ]
  },
  {
   "cell_type": "markdown",
   "id": "f393740e-0221-47ac-8fe7-da5aabbdaa4b",
   "metadata": {},
   "source": [
    "Based upon the significance level of 0.05 and the p-value of ADF test, the null hypothesis can be rejected. Hence, the series is stationary."
   ]
  },
  {
   "cell_type": "code",
   "execution_count": 33,
   "id": "cdb5bb95-1100-44f4-94dd-ba906fd63b00",
   "metadata": {},
   "outputs": [
    {
     "name": "stdout",
     "output_type": "stream",
     "text": [
      "Results of Dickey-Fuller Test:\n",
      "Test Statistic                -8.324862e+00\n",
      "p-value                        3.492661e-13\n",
      "#Lags Used                     0.000000e+00\n",
      "Number of Observations Used    8.500000e+01\n",
      "Critical Value (1%)           -3.509736e+00\n",
      "Critical Value (5%)           -2.896195e+00\n",
      "Critical Value (10%)          -2.585258e+00\n",
      "dtype: float64\n"
     ]
    }
   ],
   "source": [
    "adf_test(df_1[\"d_containment_diff\"].dropna())"
   ]
  },
  {
   "cell_type": "markdown",
   "id": "acd69d7e-54fb-49d2-aa82-a2aadd0f5b02",
   "metadata": {},
   "source": [
    "Based upon the significance level of 0.05 and the p-value of ADF test, the null hypothesis can be rejected. Hence, the series is stationary."
   ]
  },
  {
   "cell_type": "markdown",
   "id": "637f36d8-6e23-483b-b5b4-1a10402a6f60",
   "metadata": {},
   "source": [
    "## 4.2 KPSS-Test"
   ]
  },
  {
   "cell_type": "code",
   "execution_count": 34,
   "id": "b78a0bbc-84be-4173-bdc0-7994045cf996",
   "metadata": {},
   "outputs": [
    {
     "name": "stdout",
     "output_type": "stream",
     "text": [
      "Results of KPSS Test:\n",
      "Test Statistic           0.924071\n",
      "p-value                  0.010000\n",
      "Lags Used                3.000000\n",
      "Critical Value (10%)     0.347000\n",
      "Critical Value (5%)      0.463000\n",
      "Critical Value (2.5%)    0.574000\n",
      "Critical Value (1%)      0.739000\n",
      "dtype: float64\n"
     ]
    },
    {
     "name": "stderr",
     "output_type": "stream",
     "text": [
      "/Users/maximbuz/Anaconda/anaconda3/lib/python3.8/site-packages/statsmodels/tsa/stattools.py:1906: InterpolationWarning: The test statistic is outside of the range of p-values available in the\n",
      "look-up table. The actual p-value is smaller than the p-value returned.\n",
      "\n",
      "  warnings.warn(\n"
     ]
    }
   ],
   "source": [
    "kpss_test(df_1[\"d_containment_pct\"].dropna())"
   ]
  },
  {
   "cell_type": "markdown",
   "id": "7ae32978-f55c-461f-8698-40362c5b1010",
   "metadata": {},
   "source": [
    "Based upon the significance level of 0.05 and the p-value of KPSS test, there is evidence for rejecting the null hypothesis in favor of the alternative. Hence, the series is non-stationary as per the KPSS test."
   ]
  },
  {
   "cell_type": "code",
   "execution_count": 35,
   "id": "84b6212a-8608-4dbe-8c4d-aeaf2ca9bd49",
   "metadata": {},
   "outputs": [
    {
     "name": "stdout",
     "output_type": "stream",
     "text": [
      "Results of KPSS Test:\n",
      "Test Statistic           0.707899\n",
      "p-value                  0.012827\n",
      "Lags Used                2.000000\n",
      "Critical Value (10%)     0.347000\n",
      "Critical Value (5%)      0.463000\n",
      "Critical Value (2.5%)    0.574000\n",
      "Critical Value (1%)      0.739000\n",
      "dtype: float64\n"
     ]
    }
   ],
   "source": [
    "kpss_test(df_1[\"d_containment_diff\"].dropna())"
   ]
  },
  {
   "cell_type": "markdown",
   "id": "463c64ce-90b6-4d62-8b52-0defc0af2f5e",
   "metadata": {},
   "source": [
    "Based upon the significance level of 0.05 and the p-value of KPSS test, there is evidence for rejecting the null hypothesis in favor of the alternative. Hence, the series is non-stationary as per the KPSS test."
   ]
  },
  {
   "cell_type": "markdown",
   "id": "d35666db-4970-4b92-8f4f-f37c84665cb9",
   "metadata": {},
   "source": [
    "--> KPSS indicates non-stationarity and ADF indicates stationarity - The series is difference stationary. Differencing is to be used to make series stationary. The differenced series is checked for stationarity.\n"
   ]
  }
 ],
 "metadata": {
  "kernelspec": {
   "display_name": "Python 3",
   "language": "python",
   "name": "python3"
  },
  "language_info": {
   "codemirror_mode": {
    "name": "ipython",
    "version": 3
   },
   "file_extension": ".py",
   "mimetype": "text/x-python",
   "name": "python",
   "nbconvert_exporter": "python",
   "pygments_lexer": "ipython3",
   "version": "3.8.8"
  }
 },
 "nbformat": 4,
 "nbformat_minor": 5
}
