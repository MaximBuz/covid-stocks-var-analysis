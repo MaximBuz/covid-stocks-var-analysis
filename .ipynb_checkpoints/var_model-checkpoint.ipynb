{
 "cells": [
  {
   "cell_type": "markdown",
   "id": "ecb9d999-49a4-43e4-a6b5-cd449c27e94f",
   "metadata": {},
   "source": [
    "# The Reactions of the German Stock Market to COVID-19 and Containment Policies: A Vector Autoregressive Analysis"
   ]
  },
  {
   "cell_type": "markdown",
   "id": "595ce66c-5ef6-482a-a2ee-e01477e117ea",
   "metadata": {},
   "source": [
    "## 12. Estimation of VAR-Model"
   ]
  },
  {
   "cell_type": "code",
   "execution_count": 1,
   "id": "25d06427-fd7c-47ba-b9f3-cc8b1e18e04e",
   "metadata": {},
   "outputs": [],
   "source": [
    "# Importing the necessary python packages\n",
    "import numpy as np\n",
    "import pandas\n",
    "import statsmodels.api as sm\n",
    "from statsmodels.tsa.api import VAR"
   ]
  },
  {
   "cell_type": "code",
   "execution_count": null,
   "id": "8bfb9050-989b-4af9-8a59-83e98f30d8a6",
   "metadata": {},
   "outputs": [],
   "source": [
    "# Load in the previosuly prepared datasets\n",
    "sample_1 = pd.read_csv(\"transformed_data_sample_1.csv\", parse_dates=[\"date\"])\n",
    "sample_2 = pd.read_csv(\"transformed_data_sample_2.csv\", parse_dates=[\"date\"])"
   ]
  }
 ],
 "metadata": {
  "kernelspec": {
   "display_name": "Python 3",
   "language": "python",
   "name": "python3"
  },
  "language_info": {
   "codemirror_mode": {
    "name": "ipython",
    "version": 3
   },
   "file_extension": ".py",
   "mimetype": "text/x-python",
   "name": "python",
   "nbconvert_exporter": "python",
   "pygments_lexer": "ipython3",
   "version": "3.8.8"
  }
 },
 "nbformat": 4,
 "nbformat_minor": 5
}
