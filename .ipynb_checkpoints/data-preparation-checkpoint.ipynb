{
 "cells": [
  {
   "cell_type": "markdown",
   "metadata": {},
   "source": [
    "# The Reactions of the German Stock Market to COVID-19 and Containment Policies: A Vector Autoregressive Analysis"
   ]
  },
  {
   "cell_type": "markdown",
   "metadata": {},
   "source": [
    "## 1. Preparing the datasets"
   ]
  },
  {
   "cell_type": "markdown",
   "metadata": {},
   "source": [
    "### 1.1 Importing data"
   ]
  },
  {
   "cell_type": "code",
   "execution_count": 1,
   "metadata": {},
   "outputs": [],
   "source": [
    "# Importing the necessary python packages\n",
    "import investpy   #investpy is a Python package to retrieve data from investing.com\n",
    "import numpy as np\n",
    "import pandas as pd\n",
    "import matplotlib.pyplot as plt\n",
    "import seaborn as sns"
   ]
  },
  {
   "cell_type": "code",
   "execution_count": 2,
   "metadata": {},
   "outputs": [],
   "source": [
    "#retrieving data on the German HDAX performance index that includes all companies from the DAX30, MDAX and TecDAX from investing.com\n",
    "hdax = investpy.get_index_historical_data(index='hdax',\n",
    "                                        country='germany',\n",
    "                                        from_date='01/01/2020',\n",
    "                                        to_date='23/07/2021')"
   ]
  },
  {
   "cell_type": "code",
   "execution_count": 3,
   "metadata": {},
   "outputs": [],
   "source": [
    "#saving the HDAX data to a seperate .csv file\n",
    "hdax.to_csv(\"hdax-data.csv\")"
   ]
  },
  {
   "cell_type": "code",
   "execution_count": 4,
   "metadata": {},
   "outputs": [],
   "source": [
    "#loading the dataset from Our World in Data on global Covid-19 statistics\n",
    "covid_raw = pd.read_csv(\"owid-covid-data.csv\", parse_dates=[\"date\"])"
   ]
  },
  {
   "cell_type": "code",
   "execution_count": 5,
   "metadata": {},
   "outputs": [],
   "source": [
    "#loading the dataset from Our World in Data on covid containment and health measures (including the stringency index) by Oxford University\n",
    "measures = pd.read_csv(\"stringency_data/covid-containment-and-health-index.csv\", parse_dates=[\"Day\"])"
   ]
  },
  {
   "cell_type": "markdown",
   "metadata": {},
   "source": [
    "### 1.2 Filtering data"
   ]
  },
  {
   "cell_type": "code",
   "execution_count": 6,
   "metadata": {},
   "outputs": [],
   "source": [
    "#filter and prepare the dataset on Covid-19 cases and deaths in Germany\n",
    "\n",
    "#drop all unneccesary columns\n",
    "covid_raw.drop(columns=['iso_code','continent', 'total_deaths', 'new_deaths', 'new_cases_smoothed', 'new_deaths_smoothed', 'total_cases_per_million',\n",
    "                        'new_cases_per_million', 'new_cases_smoothed_per_million',\n",
    "                        'total_deaths_per_million', 'new_deaths_per_million',\n",
    "                        'new_deaths_smoothed_per_million',\n",
    "                        'reproduction_rate',\n",
    "                        'icu_patients',\n",
    "                        'icu_patients_per_million', 'hosp_patients',\n",
    "                        'hosp_patients_per_million', 'weekly_icu_admissions',\n",
    "                        'weekly_icu_admissions_per_million', 'weekly_hosp_admissions',\n",
    "                        'weekly_hosp_admissions_per_million', 'new_tests', 'total_tests',\n",
    "                        'total_tests_per_thousand', 'new_tests_per_thousand',\n",
    "                        'new_tests_smoothed', 'new_tests_smoothed_per_thousand',\n",
    "                        'positive_rate', 'tests_per_case', 'tests_units', 'total_vaccinations',\n",
    "                        'people_vaccinated', 'people_fully_vaccinated', 'new_vaccinations',\n",
    "                        'new_vaccinations_smoothed', 'total_vaccinations_per_hundred',\n",
    "                        'people_vaccinated_per_hundred', 'people_fully_vaccinated_per_hundred',\n",
    "                        'new_vaccinations_smoothed_per_million','population',\n",
    "                        'population_density', 'median_age', 'aged_65_older',\n",
    "                        'aged_70_older', 'gdp_per_capita', 'extreme_poverty',\n",
    "                        'cardiovasc_death_rate', 'diabetes_prevalence', 'female_smokers',\n",
    "                        'male_smokers', 'handwashing_facilities', 'hospital_beds_per_thousand',\n",
    "                        'life_expectancy', 'human_development_index', 'excess_mortality', ], inplace=True)\n",
    "\n",
    "#filter for data regarding Germany\n",
    "covid_de = covid_raw[covid_raw[\"location\"]==\"Germany\"].copy(deep=True)\n",
    "covid_de.drop(columns=[\"location\"], inplace=True)\n",
    "\n",
    "#sorting the data by date\n",
    "covid_de.sort_values(by=\"date\", ascending=True, inplace=True)\n",
    "\n",
    "#resetting the index to the date\n",
    "covid_de.set_index(\"date\", inplace=True, drop=True)\n",
    "\n",
    "#rename the index\n",
    "covid_de.index.name = \"date\""
   ]
  },
  {
   "cell_type": "code",
   "execution_count": 7,
   "metadata": {},
   "outputs": [],
   "source": [
    "#filter and prepare the dataset of the containment and health index\n",
    "\n",
    "#filter for data regarding Germany\n",
    "measures_de = measures[measures[\"Entity\"]==\"Germany\"].drop(columns=[\"Code\"]).copy(deep=True)\n",
    "measures_de.drop(columns=[\"Entity\"], inplace=True)\n",
    "\n",
    "#sorting the data by date\n",
    "measures_de.sort_values(by=\"Day\", inplace=True)\n",
    "\n",
    "#resetting the index to the date\n",
    "measures_de.set_index(\"Day\", inplace=True, drop=True)\n",
    "\n",
    "#rename the index\n",
    "measures_de.index.name = \"date\""
   ]
  },
  {
   "cell_type": "code",
   "execution_count": 8,
   "metadata": {},
   "outputs": [],
   "source": [
    "#filter and prepare the dataset on stock index prices\n",
    "\n",
    "#drop all unneccesary columns\n",
    "hdax.drop(columns=[\"High\", \"Low\", \"Volume\", \"Currency\"], inplace=True)\n",
    "\n",
    "#rename columns\n",
    "hdax.rename(columns={\"Open\":\"hdax_open\", \"Close\":\"hdax_close\"}, inplace=True)\n",
    "\n",
    "#rename the index\n",
    "hdax.index.name = \"date\""
   ]
  },
  {
   "cell_type": "markdown",
   "metadata": {},
   "source": [
    "## 2. Merging the datasets"
   ]
  },
  {
   "cell_type": "code",
   "execution_count": 9,
   "metadata": {},
   "outputs": [],
   "source": [
    "#Do an inner left join of covid data and masures data on hdax data.\n",
    "#Only dates where price data is available should be included in sample\n",
    "\n",
    "hdax_covid = hdax.join(covid_de, on=\"date\").copy(deep=True)\n",
    "hdax_covid_measures = hdax_covid.join(measures_de, on=\"date\").copy(deep=True)"
   ]
  },
  {
   "cell_type": "markdown",
   "metadata": {},
   "source": [
    "## 3. Dropping missing data"
   ]
  },
  {
   "cell_type": "code",
   "execution_count": 10,
   "metadata": {},
   "outputs": [],
   "source": [
    "#loading the combined data into a new variable and handle missing values\n",
    "data = hdax_covid_measures.copy(deep=True)"
   ]
  },
  {
   "cell_type": "code",
   "execution_count": 11,
   "metadata": {},
   "outputs": [],
   "source": [
    "#data[data.isna().any(axis=1)]\n",
    "#It seems like data is missing only before the pandemic started, and on the most recent dates.\n",
    "#We can easily discard these observations and adjust our sample beginning and end dates\n",
    "data.dropna(axis=0, how=\"any\", inplace=True)"
   ]
  },
  {
   "cell_type": "markdown",
   "metadata": {},
   "source": [
    "## 4. Adding Dummy Columns for weekdays"
   ]
  },
  {
   "cell_type": "code",
   "execution_count": 12,
   "metadata": {},
   "outputs": [],
   "source": [
    "#create a column describing what day of week this date is\n",
    "data['day_of_week'] = data.index.day_name()\n",
    "\n",
    "#from the new column \"day_of_week\", create dummy columns filled with 0 and 1\n",
    "data = data.join(pd.get_dummies(data[\"day_of_week\"])).copy(deep=True)\n",
    "\n",
    "#rearange the order of the columns\n",
    "data = data[['hdax_open', 'hdax_close', 'total_cases', 'new_cases',\n",
    "             'stringency_index', 'containment_index',\n",
    "             'day_of_week','Monday','Tuesday', 'Wednesday','Thursday','Friday']].copy(deep=True)\n",
    "\n",
    "#delete the \"day_of_week\" column\n",
    "data.drop(columns=[\"day_of_week\"],inplace=True)"
   ]
  },
  {
   "cell_type": "markdown",
   "metadata": {},
   "source": [
    "## 5. Saving the data for further statistical analysis"
   ]
  },
  {
   "cell_type": "code",
   "execution_count": 15,
   "metadata": {},
   "outputs": [],
   "source": [
    "data.to_csv(\"prepared_data.csv\")"
   ]
  }
 ],
 "metadata": {
  "kernelspec": {
   "display_name": "Python 3",
   "language": "python",
   "name": "python3"
  },
  "language_info": {
   "codemirror_mode": {
    "name": "ipython",
    "version": 3
   },
   "file_extension": ".py",
   "mimetype": "text/x-python",
   "name": "python",
   "nbconvert_exporter": "python",
   "pygments_lexer": "ipython3",
   "version": "3.8.5"
  }
 },
 "nbformat": 4,
 "nbformat_minor": 4
}
