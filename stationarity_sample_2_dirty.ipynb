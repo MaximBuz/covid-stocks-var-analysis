{
 "cells": [
  {
   "cell_type": "code",
   "execution_count": 1,
   "id": "e2fbfbe2-6e58-4e40-9f7a-a2429b88041a",
   "metadata": {},
   "outputs": [],
   "source": [
    "%matplotlib inline\n",
    "import matplotlib.pyplot as plt\n",
    "import numpy as np\n",
    "import pandas as pd\n",
    "import statsmodels.api as sm"
   ]
  },
  {
   "cell_type": "code",
   "execution_count": 2,
   "id": "a0b420b6-9fd1-4676-ba76-94f8a810cdd0",
   "metadata": {},
   "outputs": [],
   "source": [
    "df_2 = pd.read_csv(\"prepared_data_sample_2.csv\", parse_dates=[\"date\"])"
   ]
  },
  {
   "cell_type": "code",
   "execution_count": 3,
   "id": "1f40845e-5de4-482f-a33e-233e61043d1a",
   "metadata": {},
   "outputs": [],
   "source": [
    "#Verschiedene Wachstumsraten \n",
    "df_2[\"d_close_pct\"] = ( df_2[\"hdax_close\"] - df_2[\"hdax_close\"].shift(1) ) / df_2[\"hdax_close\"].shift(1)\n",
    "df_2[\"d_close_log\"] = ( np.log(df_2[\"hdax_close\"]) - np.log(df_2[\"hdax_close\"].shift(1)))\n",
    "df_2[\"d_close_diff\"] = ( df_2[\"hdax_close\"] - df_2[\"hdax_close\"].shift(1) )"
   ]
  },
  {
   "cell_type": "code",
   "execution_count": 4,
   "id": "5aee545b-782b-4f77-a835-f6e53fdccc85",
   "metadata": {},
   "outputs": [],
   "source": [
    "#Verschiedene Wachstumsraten für Total Cases\n",
    "df_2[\"d_total_pct\"] = ( df_2[\"total_cases\"] - df_2[\"total_cases\"].shift(1) ) / df_2[\"total_cases\"].shift(1)\n",
    "df_2[\"d_total_log\"] = ( np.log(df_2[\"total_cases\"]) - np.log(df_2[\"total_cases\"].shift(1)))\n",
    "df_2[\"d_total_diff\"] = ( df_2[\"total_cases\"] - df_2[\"total_cases\"].shift(1) )"
   ]
  },
  {
   "cell_type": "code",
   "execution_count": 5,
   "id": "e7e13d0a-88e2-41d7-b018-2a4b1c64c3e2",
   "metadata": {},
   "outputs": [],
   "source": [
    "#Verschiedene Wachstumsraten für New Cases\n",
    "df_2[\"d_new_pct\"] = ( df_2[\"new_cases\"] - df_2[\"new_cases\"].shift(1) ) / df_2[\"new_cases\"].shift(1)\n",
    "df_2[\"d_new_log\"] = ( np.log(df_2[\"new_cases\"]) - np.log(df_2[\"new_cases\"].shift(1)))\n",
    "df_2[\"d_new_diff\"] = ( df_2[\"new_cases\"] - df_2[\"new_cases\"].shift(1) )"
   ]
  },
  {
   "cell_type": "code",
   "execution_count": 6,
   "id": "3c347e56-71d4-41db-b6f0-a61b9342390a",
   "metadata": {},
   "outputs": [],
   "source": [
    "#Verschiedene Wachstumsraten für Containment Index\n",
    "df_2[\"d_containment_pct\"] = ( df_2[\"containment_index\"] - df_2[\"containment_index\"].shift(1) ) / df_2[\"containment_index\"].shift(1)\n",
    "df_2[\"d_containment_log\"] = ( np.log(df_2[\"containment_index\"]) - np.log(df_2[\"containment_index\"].shift(1)))\n",
    "df_2[\"d_containment_diff\"] = ( df_2[\"containment_index\"] - df_2[\"containment_index\"].shift(1) )"
   ]
  },
  {
   "cell_type": "code",
   "execution_count": 7,
   "id": "2749c041-fef9-4916-8f7f-c5361c82892d",
   "metadata": {},
   "outputs": [
    {
     "data": {
      "text/html": [
       "<div>\n",
       "<style scoped>\n",
       "    .dataframe tbody tr th:only-of-type {\n",
       "        vertical-align: middle;\n",
       "    }\n",
       "\n",
       "    .dataframe tbody tr th {\n",
       "        vertical-align: top;\n",
       "    }\n",
       "\n",
       "    .dataframe thead th {\n",
       "        text-align: right;\n",
       "    }\n",
       "</style>\n",
       "<table border=\"1\" class=\"dataframe\">\n",
       "  <thead>\n",
       "    <tr style=\"text-align: right;\">\n",
       "      <th></th>\n",
       "      <th>date</th>\n",
       "      <th>hdax_open</th>\n",
       "      <th>hdax_close</th>\n",
       "      <th>total_cases</th>\n",
       "      <th>new_cases</th>\n",
       "      <th>stringency_index</th>\n",
       "      <th>containment_index</th>\n",
       "      <th>Monday</th>\n",
       "      <th>Tuesday</th>\n",
       "      <th>Wednesday</th>\n",
       "      <th>...</th>\n",
       "      <th>d_close_diff</th>\n",
       "      <th>d_total_pct</th>\n",
       "      <th>d_total_log</th>\n",
       "      <th>d_total_diff</th>\n",
       "      <th>d_new_pct</th>\n",
       "      <th>d_new_log</th>\n",
       "      <th>d_new_diff</th>\n",
       "      <th>d_containment_pct</th>\n",
       "      <th>d_containment_log</th>\n",
       "      <th>d_containment_diff</th>\n",
       "    </tr>\n",
       "  </thead>\n",
       "  <tbody>\n",
       "    <tr>\n",
       "      <th>0</th>\n",
       "      <td>2020-10-01</td>\n",
       "      <td>7051.18</td>\n",
       "      <td>7034.37</td>\n",
       "      <td>295539.0</td>\n",
       "      <td>2626.0</td>\n",
       "      <td>49.54</td>\n",
       "      <td>54.46</td>\n",
       "      <td>0</td>\n",
       "      <td>0</td>\n",
       "      <td>0</td>\n",
       "      <td>...</td>\n",
       "      <td>NaN</td>\n",
       "      <td>NaN</td>\n",
       "      <td>NaN</td>\n",
       "      <td>NaN</td>\n",
       "      <td>NaN</td>\n",
       "      <td>NaN</td>\n",
       "      <td>NaN</td>\n",
       "      <td>NaN</td>\n",
       "      <td>NaN</td>\n",
       "      <td>NaN</td>\n",
       "    </tr>\n",
       "    <tr>\n",
       "      <th>1</th>\n",
       "      <td>2020-10-02</td>\n",
       "      <td>6990.41</td>\n",
       "      <td>7009.84</td>\n",
       "      <td>298374.0</td>\n",
       "      <td>2835.0</td>\n",
       "      <td>49.54</td>\n",
       "      <td>54.46</td>\n",
       "      <td>0</td>\n",
       "      <td>0</td>\n",
       "      <td>0</td>\n",
       "      <td>...</td>\n",
       "      <td>-24.53</td>\n",
       "      <td>0.009593</td>\n",
       "      <td>0.009547</td>\n",
       "      <td>2835.0</td>\n",
       "      <td>0.079589</td>\n",
       "      <td>0.076580</td>\n",
       "      <td>209.0</td>\n",
       "      <td>0.0</td>\n",
       "      <td>0.0</td>\n",
       "      <td>0.0</td>\n",
       "    </tr>\n",
       "    <tr>\n",
       "      <th>2</th>\n",
       "      <td>2020-10-05</td>\n",
       "      <td>7056.22</td>\n",
       "      <td>7092.98</td>\n",
       "      <td>304673.0</td>\n",
       "      <td>3100.0</td>\n",
       "      <td>49.54</td>\n",
       "      <td>54.46</td>\n",
       "      <td>1</td>\n",
       "      <td>0</td>\n",
       "      <td>0</td>\n",
       "      <td>...</td>\n",
       "      <td>83.14</td>\n",
       "      <td>0.021111</td>\n",
       "      <td>0.020891</td>\n",
       "      <td>6299.0</td>\n",
       "      <td>0.093474</td>\n",
       "      <td>0.089360</td>\n",
       "      <td>265.0</td>\n",
       "      <td>0.0</td>\n",
       "      <td>0.0</td>\n",
       "      <td>0.0</td>\n",
       "    </tr>\n",
       "    <tr>\n",
       "      <th>3</th>\n",
       "      <td>2020-10-06</td>\n",
       "      <td>7108.30</td>\n",
       "      <td>7124.25</td>\n",
       "      <td>307127.0</td>\n",
       "      <td>2454.0</td>\n",
       "      <td>49.54</td>\n",
       "      <td>54.46</td>\n",
       "      <td>0</td>\n",
       "      <td>1</td>\n",
       "      <td>0</td>\n",
       "      <td>...</td>\n",
       "      <td>31.27</td>\n",
       "      <td>0.008055</td>\n",
       "      <td>0.008022</td>\n",
       "      <td>2454.0</td>\n",
       "      <td>-0.208387</td>\n",
       "      <td>-0.233683</td>\n",
       "      <td>-646.0</td>\n",
       "      <td>0.0</td>\n",
       "      <td>0.0</td>\n",
       "      <td>0.0</td>\n",
       "    </tr>\n",
       "    <tr>\n",
       "      <th>4</th>\n",
       "      <td>2020-10-07</td>\n",
       "      <td>7125.75</td>\n",
       "      <td>7128.76</td>\n",
       "      <td>311137.0</td>\n",
       "      <td>4010.0</td>\n",
       "      <td>49.54</td>\n",
       "      <td>54.46</td>\n",
       "      <td>0</td>\n",
       "      <td>0</td>\n",
       "      <td>1</td>\n",
       "      <td>...</td>\n",
       "      <td>4.51</td>\n",
       "      <td>0.013056</td>\n",
       "      <td>0.012972</td>\n",
       "      <td>4010.0</td>\n",
       "      <td>0.634067</td>\n",
       "      <td>0.491072</td>\n",
       "      <td>1556.0</td>\n",
       "      <td>0.0</td>\n",
       "      <td>0.0</td>\n",
       "      <td>0.0</td>\n",
       "    </tr>\n",
       "  </tbody>\n",
       "</table>\n",
       "<p>5 rows × 24 columns</p>\n",
       "</div>"
      ],
      "text/plain": [
       "        date  hdax_open  hdax_close  total_cases  new_cases  stringency_index  \\\n",
       "0 2020-10-01    7051.18     7034.37     295539.0     2626.0             49.54   \n",
       "1 2020-10-02    6990.41     7009.84     298374.0     2835.0             49.54   \n",
       "2 2020-10-05    7056.22     7092.98     304673.0     3100.0             49.54   \n",
       "3 2020-10-06    7108.30     7124.25     307127.0     2454.0             49.54   \n",
       "4 2020-10-07    7125.75     7128.76     311137.0     4010.0             49.54   \n",
       "\n",
       "   containment_index  Monday  Tuesday  Wednesday  ...  d_close_diff  \\\n",
       "0              54.46       0        0          0  ...           NaN   \n",
       "1              54.46       0        0          0  ...        -24.53   \n",
       "2              54.46       1        0          0  ...         83.14   \n",
       "3              54.46       0        1          0  ...         31.27   \n",
       "4              54.46       0        0          1  ...          4.51   \n",
       "\n",
       "   d_total_pct  d_total_log  d_total_diff  d_new_pct  d_new_log  d_new_diff  \\\n",
       "0          NaN          NaN           NaN        NaN        NaN         NaN   \n",
       "1     0.009593     0.009547        2835.0   0.079589   0.076580       209.0   \n",
       "2     0.021111     0.020891        6299.0   0.093474   0.089360       265.0   \n",
       "3     0.008055     0.008022        2454.0  -0.208387  -0.233683      -646.0   \n",
       "4     0.013056     0.012972        4010.0   0.634067   0.491072      1556.0   \n",
       "\n",
       "   d_containment_pct  d_containment_log  d_containment_diff  \n",
       "0                NaN                NaN                 NaN  \n",
       "1                0.0                0.0                 0.0  \n",
       "2                0.0                0.0                 0.0  \n",
       "3                0.0                0.0                 0.0  \n",
       "4                0.0                0.0                 0.0  \n",
       "\n",
       "[5 rows x 24 columns]"
      ]
     },
     "execution_count": 7,
     "metadata": {},
     "output_type": "execute_result"
    }
   ],
   "source": [
    "df_2.head(5)"
   ]
  },
  {
   "cell_type": "markdown",
   "id": "23c13266-72c5-4f09-99b0-fc78c68c7f4d",
   "metadata": {},
   "source": [
    "1. Bei Wachstumsraten ist das Problem, wenn keine new Cases und Nullen. Deswegen angefangen ab dem 25. Februar.\n",
    "2. Man merkt, dass Wachstumsraten anfangs sehr hoch sind, deswegen log Wachstum sehr ungenau\n",
    "--> Also kein log Wachstum für covid_cases und containment verwenden!"
   ]
  },
  {
   "cell_type": "code",
   "execution_count": 8,
   "id": "0a0f034c-46de-4d81-a3f2-168b2d2d4d24",
   "metadata": {},
   "outputs": [],
   "source": [
    "df_2.drop(columns=[\"hdax_open\", \"hdax_close\", \"total_cases\",], inplace=True)"
   ]
  },
  {
   "cell_type": "code",
   "execution_count": 61,
   "id": "bfd7d3cc-7abd-424f-84cb-e65a41f365d9",
   "metadata": {},
   "outputs": [],
   "source": [
    "#ADF-Test um die verschiedenen Zeitreihen auf Stationarität zu prüfen\n",
    "from statsmodels.tsa.stattools import adfuller\n",
    "\n",
    "\n",
    "def adf_test(timeseries):\n",
    "    print(\"Results of Dickey-Fuller Test:\")\n",
    "    dftest = adfuller(timeseries, autolag=\"AIC\")\n",
    "    dfoutput = pd.Series(\n",
    "        dftest[0:4],\n",
    "        index=[\n",
    "            \"Test Statistic\",\n",
    "            \"p-value\",\n",
    "            \"#Lags Used\",\n",
    "            \"Number of Observations Used\",\n",
    "        ],\n",
    "    )\n",
    "    for key, value in dftest[4].items():\n",
    "        dfoutput[\"Critical Value (%s)\" % key] = value\n",
    "    print(dfoutput)\n",
    "\n",
    "    \n",
    "#KPSS-Test um die verschiedenen Zeitreiehen auf Stationarität zu prüfen  \n",
    "from statsmodels.tsa.stattools import kpss\n",
    "\n",
    "\n",
    "def kpss_test(timeseries):\n",
    "    print(\"Results of KPSS Test:\")\n",
    "    kpsstest = kpss(timeseries, regression=\"c\", nlags=\"auto\")\n",
    "    kpss_output = pd.Series(\n",
    "        kpsstest[0:3], index=[\"Test Statistic\", \"p-value\", \"Lags Used\"]\n",
    "    )\n",
    "    for key, value in kpsstest[3].items():\n",
    "        kpss_output[\"Critical Value (%s)\" % key] = value\n",
    "    print(kpss_output)\n",
    "    "
   ]
  },
  {
   "cell_type": "markdown",
   "id": "a3985a60-420d-4cc3-a597-e0cfc6c3d148",
   "metadata": {},
   "source": [
    "# 1. HDAX Wachstumsraten auf Stationarität testen"
   ]
  },
  {
   "cell_type": "markdown",
   "id": "fd1eb8bd-78e9-498a-aac2-db351f72e8d6",
   "metadata": {},
   "source": [
    "## 1.1 ADF-Test"
   ]
  },
  {
   "cell_type": "code",
   "execution_count": 10,
   "id": "5e92ddab-14aa-44f1-adf8-398c39143efb",
   "metadata": {},
   "outputs": [
    {
     "name": "stdout",
     "output_type": "stream",
     "text": [
      "Results of Dickey-Fuller Test:\n",
      "Test Statistic                -8.439855e+00\n",
      "p-value                        1.775296e-13\n",
      "#Lags Used                     1.000000e+00\n",
      "Number of Observations Used    1.850000e+02\n",
      "Critical Value (1%)           -3.466201e+00\n",
      "Critical Value (5%)           -2.877293e+00\n",
      "Critical Value (10%)          -2.575168e+00\n",
      "dtype: float64\n"
     ]
    }
   ],
   "source": [
    "adf_test(df_2[\"d_close_pct\"].dropna())"
   ]
  },
  {
   "cell_type": "markdown",
   "id": "847b75be-822c-4bfb-a47e-66805a6281bf",
   "metadata": {},
   "source": [
    "Based upon the significance level of 0.05 and the p-value of ADF test, the null hypothesis can be rejected. Hence, the series is stationary."
   ]
  },
  {
   "cell_type": "code",
   "execution_count": 11,
   "id": "8d6dfd64-40ce-4362-9ed6-e1f56ead3ef9",
   "metadata": {},
   "outputs": [
    {
     "name": "stdout",
     "output_type": "stream",
     "text": [
      "Results of Dickey-Fuller Test:\n",
      "Test Statistic                -8.435567e+00\n",
      "p-value                        1.820694e-13\n",
      "#Lags Used                     1.000000e+00\n",
      "Number of Observations Used    1.850000e+02\n",
      "Critical Value (1%)           -3.466201e+00\n",
      "Critical Value (5%)           -2.877293e+00\n",
      "Critical Value (10%)          -2.575168e+00\n",
      "dtype: float64\n"
     ]
    }
   ],
   "source": [
    "adf_test(df_2[\"d_close_log\"].dropna())"
   ]
  },
  {
   "cell_type": "markdown",
   "id": "077f4ba1-5780-48d6-9f81-c963d24cb03e",
   "metadata": {},
   "source": [
    "Based upon the significance level of 0.05 and the p-value of ADF test, the null hypothesis can be rejected. Hence, the series is stationary."
   ]
  },
  {
   "cell_type": "code",
   "execution_count": 12,
   "id": "82c1be90-a281-474f-97aa-2e31ed83af51",
   "metadata": {},
   "outputs": [
    {
     "name": "stdout",
     "output_type": "stream",
     "text": [
      "Results of Dickey-Fuller Test:\n",
      "Test Statistic                -8.911455e+00\n",
      "p-value                        1.101457e-14\n",
      "#Lags Used                     1.000000e+00\n",
      "Number of Observations Used    1.850000e+02\n",
      "Critical Value (1%)           -3.466201e+00\n",
      "Critical Value (5%)           -2.877293e+00\n",
      "Critical Value (10%)          -2.575168e+00\n",
      "dtype: float64\n"
     ]
    }
   ],
   "source": [
    "adf_test(df_2[\"d_close_diff\"].dropna())"
   ]
  },
  {
   "cell_type": "markdown",
   "id": "b9c71f2a-f8da-4a50-9e29-f19301102256",
   "metadata": {},
   "source": [
    "Based upon the significance level of 0.05 and the p-value of ADF test, the null hypothesis can be rejected. Hence, the series is stationary."
   ]
  },
  {
   "cell_type": "markdown",
   "id": "b472678e-54d1-4de5-a204-5b03a90d387c",
   "metadata": {},
   "source": [
    "## 1.2 KPSS-Test"
   ]
  },
  {
   "cell_type": "code",
   "execution_count": 13,
   "id": "14160837-0f73-4586-a684-45f9f517c967",
   "metadata": {},
   "outputs": [
    {
     "name": "stdout",
     "output_type": "stream",
     "text": [
      "Results of KPSS Test:\n",
      "Test Statistic           0.037257\n",
      "p-value                  0.100000\n",
      "Lags Used                1.000000\n",
      "Critical Value (10%)     0.347000\n",
      "Critical Value (5%)      0.463000\n",
      "Critical Value (2.5%)    0.574000\n",
      "Critical Value (1%)      0.739000\n",
      "dtype: float64\n"
     ]
    },
    {
     "name": "stderr",
     "output_type": "stream",
     "text": [
      "/Users/maximbuz/Anaconda/anaconda3/lib/python3.8/site-packages/statsmodels/tsa/stattools.py:1910: InterpolationWarning: The test statistic is outside of the range of p-values available in the\n",
      "look-up table. The actual p-value is greater than the p-value returned.\n",
      "\n",
      "  warnings.warn(\n"
     ]
    }
   ],
   "source": [
    "kpss_test(df_2[\"d_close_pct\"].dropna())"
   ]
  },
  {
   "cell_type": "markdown",
   "id": "c9ed9461-b023-400d-9ab9-af3d17f5d47b",
   "metadata": {},
   "source": [
    "Based upon the significance level of 0.05 and the p-value of KPSS test, there is no evidence for rejecting the null hypothesis in favor of the alternative. Hence, the series is stationary as per the KPSS test."
   ]
  },
  {
   "cell_type": "code",
   "execution_count": 14,
   "id": "e7487868-612f-4236-8948-c2822c344257",
   "metadata": {},
   "outputs": [
    {
     "name": "stdout",
     "output_type": "stream",
     "text": [
      "Results of KPSS Test:\n",
      "Test Statistic           0.036795\n",
      "p-value                  0.100000\n",
      "Lags Used                1.000000\n",
      "Critical Value (10%)     0.347000\n",
      "Critical Value (5%)      0.463000\n",
      "Critical Value (2.5%)    0.574000\n",
      "Critical Value (1%)      0.739000\n",
      "dtype: float64\n"
     ]
    },
    {
     "name": "stderr",
     "output_type": "stream",
     "text": [
      "/Users/maximbuz/Anaconda/anaconda3/lib/python3.8/site-packages/statsmodels/tsa/stattools.py:1910: InterpolationWarning: The test statistic is outside of the range of p-values available in the\n",
      "look-up table. The actual p-value is greater than the p-value returned.\n",
      "\n",
      "  warnings.warn(\n"
     ]
    }
   ],
   "source": [
    "kpss_test(df_2[\"d_close_log\"].dropna())"
   ]
  },
  {
   "cell_type": "markdown",
   "id": "5f4591b4-06bf-485e-ae3b-567f5227b7f8",
   "metadata": {},
   "source": [
    "Based upon the significance level of 0.05 and the p-value of KPSS test, there is no evidence for rejecting the null hypothesis in favor of the alternative. Hence, the series is stationary as per the KPSS test."
   ]
  },
  {
   "cell_type": "code",
   "execution_count": 15,
   "id": "69cb711c-89f5-4de2-9c3d-52c015743ac0",
   "metadata": {},
   "outputs": [
    {
     "name": "stdout",
     "output_type": "stream",
     "text": [
      "Results of KPSS Test:\n",
      "Test Statistic           0.033894\n",
      "p-value                  0.100000\n",
      "Lags Used                3.000000\n",
      "Critical Value (10%)     0.347000\n",
      "Critical Value (5%)      0.463000\n",
      "Critical Value (2.5%)    0.574000\n",
      "Critical Value (1%)      0.739000\n",
      "dtype: float64\n"
     ]
    },
    {
     "name": "stderr",
     "output_type": "stream",
     "text": [
      "/Users/maximbuz/Anaconda/anaconda3/lib/python3.8/site-packages/statsmodels/tsa/stattools.py:1910: InterpolationWarning: The test statistic is outside of the range of p-values available in the\n",
      "look-up table. The actual p-value is greater than the p-value returned.\n",
      "\n",
      "  warnings.warn(\n"
     ]
    }
   ],
   "source": [
    "kpss_test(df_2[\"d_close_diff\"].dropna())"
   ]
  },
  {
   "cell_type": "markdown",
   "id": "1ff30436-f4f0-4c7b-b5ad-b736a26b5654",
   "metadata": {},
   "source": [
    "Based upon the significance level of 0.05 and the p-value of KPSS test, there is no evidence for rejecting the null hypothesis in favor of the alternative. Hence, the series is stationary as per the KPSS test.\n",
    "\n"
   ]
  },
  {
   "cell_type": "markdown",
   "id": "061ad57d-7178-466a-bb0d-f585ee339990",
   "metadata": {},
   "source": []
  },
  {
   "cell_type": "markdown",
   "id": "90017654-0189-46f9-9532-893826b1ad23",
   "metadata": {},
   "source": [
    "# 2. Covid Cases auf Stationarität untersuchen"
   ]
  },
  {
   "cell_type": "markdown",
   "id": "ca3d15ce-dd56-4221-9054-0e3a4c33d65e",
   "metadata": {},
   "source": [
    "## 2.1 ADF-Test"
   ]
  },
  {
   "cell_type": "code",
   "execution_count": 16,
   "id": "acc69045-a5c3-418d-980d-a8090d8407be",
   "metadata": {},
   "outputs": [
    {
     "name": "stdout",
     "output_type": "stream",
     "text": [
      "Results of Dickey-Fuller Test:\n",
      "Test Statistic                  -1.929795\n",
      "p-value                          0.318177\n",
      "#Lags Used                       8.000000\n",
      "Number of Observations Used    178.000000\n",
      "Critical Value (1%)             -3.467632\n",
      "Critical Value (5%)             -2.877918\n",
      "Critical Value (10%)            -2.575501\n",
      "dtype: float64\n"
     ]
    }
   ],
   "source": [
    "adf_test(df_2[\"d_total_pct\"].dropna())"
   ]
  },
  {
   "cell_type": "markdown",
   "id": "f7f75690-e6cb-4075-9038-e1eebe72d6c6",
   "metadata": {},
   "source": [
    "Based upon the significance level of 0.05 and the p-value of ADF test, the null hypothesis can not be rejected. Hence, the series is non-stationary."
   ]
  },
  {
   "cell_type": "code",
   "execution_count": 17,
   "id": "523b2cc9-ed9d-4d81-be5d-e8a919f7d443",
   "metadata": {},
   "outputs": [
    {
     "name": "stdout",
     "output_type": "stream",
     "text": [
      "Results of Dickey-Fuller Test:\n",
      "Test Statistic                  -1.936746\n",
      "p-value                          0.314977\n",
      "#Lags Used                       8.000000\n",
      "Number of Observations Used    178.000000\n",
      "Critical Value (1%)             -3.467632\n",
      "Critical Value (5%)             -2.877918\n",
      "Critical Value (10%)            -2.575501\n",
      "dtype: float64\n"
     ]
    }
   ],
   "source": [
    "adf_test(df_2[\"d_total_log\"].dropna())"
   ]
  },
  {
   "cell_type": "markdown",
   "id": "ad27a29d-5da1-4b8c-a0bf-1c69e145d63d",
   "metadata": {},
   "source": [
    "Based upon the significance level of 0.05 and the p-value of ADF test, the null hypothesis can not be rejected. Hence, the series is non-stationary."
   ]
  },
  {
   "cell_type": "code",
   "execution_count": 18,
   "id": "f3d49f09-65c4-4cb1-92f3-2f3dde4ac536",
   "metadata": {},
   "outputs": [
    {
     "name": "stdout",
     "output_type": "stream",
     "text": [
      "Results of Dickey-Fuller Test:\n",
      "Test Statistic                  -2.280726\n",
      "p-value                          0.178259\n",
      "#Lags Used                      14.000000\n",
      "Number of Observations Used    172.000000\n",
      "Critical Value (1%)             -3.468952\n",
      "Critical Value (5%)             -2.878495\n",
      "Critical Value (10%)            -2.575809\n",
      "dtype: float64\n"
     ]
    }
   ],
   "source": [
    "adf_test(df_2[\"d_total_diff\"].dropna())"
   ]
  },
  {
   "cell_type": "markdown",
   "id": "0a5b7112-5465-4eda-8388-42072c36605f",
   "metadata": {},
   "source": [
    "Based upon the significance level of 0.05 and the p-value of ADF test, the null hypothesis can not be rejected. Hence, the series is non-stationary."
   ]
  },
  {
   "cell_type": "markdown",
   "id": "a09ed9fe-2ac9-41d9-a27e-00fc53b7b8f9",
   "metadata": {},
   "source": [
    "## 2.2 KPSS-Test"
   ]
  },
  {
   "cell_type": "code",
   "execution_count": 19,
   "id": "ecb20d28-e00d-433e-b646-38d1642becca",
   "metadata": {},
   "outputs": [
    {
     "name": "stdout",
     "output_type": "stream",
     "text": [
      "Results of KPSS Test:\n",
      "Test Statistic           1.401233\n",
      "p-value                  0.010000\n",
      "Lags Used                9.000000\n",
      "Critical Value (10%)     0.347000\n",
      "Critical Value (5%)      0.463000\n",
      "Critical Value (2.5%)    0.574000\n",
      "Critical Value (1%)      0.739000\n",
      "dtype: float64\n"
     ]
    },
    {
     "name": "stderr",
     "output_type": "stream",
     "text": [
      "/Users/maximbuz/Anaconda/anaconda3/lib/python3.8/site-packages/statsmodels/tsa/stattools.py:1906: InterpolationWarning: The test statistic is outside of the range of p-values available in the\n",
      "look-up table. The actual p-value is smaller than the p-value returned.\n",
      "\n",
      "  warnings.warn(\n"
     ]
    }
   ],
   "source": [
    "kpss_test(df_2[\"d_total_pct\"].dropna())"
   ]
  },
  {
   "cell_type": "markdown",
   "id": "9a097511-d298-4cfc-b5bf-6a9ee5d09169",
   "metadata": {},
   "source": [
    "Based upon the significance level of 0.05 and the p-value of KPSS test, there is evidence for rejecting the null hypothesis in favor of the alternative. Hence, the series is non-stationary as per the KPSS test."
   ]
  },
  {
   "cell_type": "code",
   "execution_count": 20,
   "id": "2ab2d7cb-b278-4953-95ff-0758e07db38b",
   "metadata": {},
   "outputs": [
    {
     "name": "stdout",
     "output_type": "stream",
     "text": [
      "Results of KPSS Test:\n",
      "Test Statistic           1.408117\n",
      "p-value                  0.010000\n",
      "Lags Used                9.000000\n",
      "Critical Value (10%)     0.347000\n",
      "Critical Value (5%)      0.463000\n",
      "Critical Value (2.5%)    0.574000\n",
      "Critical Value (1%)      0.739000\n",
      "dtype: float64\n"
     ]
    },
    {
     "name": "stderr",
     "output_type": "stream",
     "text": [
      "/Users/maximbuz/Anaconda/anaconda3/lib/python3.8/site-packages/statsmodels/tsa/stattools.py:1906: InterpolationWarning: The test statistic is outside of the range of p-values available in the\n",
      "look-up table. The actual p-value is smaller than the p-value returned.\n",
      "\n",
      "  warnings.warn(\n"
     ]
    }
   ],
   "source": [
    "kpss_test(df_2[\"d_total_log\"].dropna())"
   ]
  },
  {
   "cell_type": "markdown",
   "id": "e8430e70-1704-462f-8949-2d4d9aab2fe4",
   "metadata": {},
   "source": [
    "Based upon the significance level of 0.05 and the p-value of KPSS test, there is evidence for rejecting the null hypothesis in favor of the alternative. Hence, the series is non-stationary as per the KPSS test.\n",
    "\n"
   ]
  },
  {
   "cell_type": "code",
   "execution_count": 21,
   "id": "ce242bce-fd9b-44c7-9bc6-a69f4ba7a3eb",
   "metadata": {},
   "outputs": [
    {
     "name": "stdout",
     "output_type": "stream",
     "text": [
      "Results of KPSS Test:\n",
      "Test Statistic           0.430057\n",
      "p-value                  0.064200\n",
      "Lags Used                9.000000\n",
      "Critical Value (10%)     0.347000\n",
      "Critical Value (5%)      0.463000\n",
      "Critical Value (2.5%)    0.574000\n",
      "Critical Value (1%)      0.739000\n",
      "dtype: float64\n"
     ]
    }
   ],
   "source": [
    "kpss_test(df_2[\"d_total_diff\"].dropna())"
   ]
  },
  {
   "cell_type": "markdown",
   "id": "c59c7b67-6bdc-4846-9c5b-0ff0d2469696",
   "metadata": {},
   "source": [
    "Based upon the significance level of 0.05 and the p-value of KPSS test, there is evidence for rejecting the null hypothesis in favor of the alternative. Hence, the series is non-stationary as per the KPSS test."
   ]
  },
  {
   "cell_type": "markdown",
   "id": "1f7bfd0c-4afa-4614-9a66-c3e6c4d80fae",
   "metadata": {},
   "source": [
    "# 3. New Cases auf Stationarität untersuchen"
   ]
  },
  {
   "cell_type": "markdown",
   "id": "3dba4768-fd5b-49f6-9e96-eaf0caaf5c48",
   "metadata": {},
   "source": [
    "## 3.1 ADF-Test"
   ]
  },
  {
   "cell_type": "code",
   "execution_count": 22,
   "id": "8d5c072a-59ce-496d-b01d-24eb5d52bca9",
   "metadata": {},
   "outputs": [
    {
     "name": "stdout",
     "output_type": "stream",
     "text": [
      "Results of Dickey-Fuller Test:\n",
      "Test Statistic                  -3.986223\n",
      "p-value                          0.001484\n",
      "#Lags Used                       5.000000\n",
      "Number of Observations Used    181.000000\n",
      "Critical Value (1%)             -3.467005\n",
      "Critical Value (5%)             -2.877644\n",
      "Critical Value (10%)            -2.575355\n",
      "dtype: float64\n"
     ]
    }
   ],
   "source": [
    "adf_test(df_2[\"d_new_pct\"].dropna())"
   ]
  },
  {
   "cell_type": "markdown",
   "id": "80a66c9b-d1fb-45eb-b36c-d70c322ed499",
   "metadata": {},
   "source": [
    "Based upon the significance level of 0.05 and the p-value of ADF test, the null hypothesis can be rejected. Hence, the series is stationary."
   ]
  },
  {
   "cell_type": "code",
   "execution_count": 23,
   "id": "22031117-319f-4b4b-b3ee-a25558e8b58e",
   "metadata": {},
   "outputs": [
    {
     "name": "stdout",
     "output_type": "stream",
     "text": [
      "Results of Dickey-Fuller Test:\n",
      "Test Statistic                  -2.262179\n",
      "p-value                          0.184456\n",
      "#Lags Used                      12.000000\n",
      "Number of Observations Used    174.000000\n",
      "Critical Value (1%)             -3.468502\n",
      "Critical Value (5%)             -2.878298\n",
      "Critical Value (10%)            -2.575704\n",
      "dtype: float64\n"
     ]
    }
   ],
   "source": [
    "adf_test(df_2[\"d_new_log\"].dropna())"
   ]
  },
  {
   "cell_type": "markdown",
   "id": "df34e250-df4c-41a4-a3a1-af728c477e1f",
   "metadata": {},
   "source": [
    "Based upon the significance level of 0.05 and the p-value of ADF test, the null hypothesis can not be rejected. Hence, the series is non-stationary."
   ]
  },
  {
   "cell_type": "code",
   "execution_count": 24,
   "id": "aadf2f5f-9dc2-426e-b359-9b796be7c7c1",
   "metadata": {},
   "outputs": [
    {
     "name": "stdout",
     "output_type": "stream",
     "text": [
      "Results of Dickey-Fuller Test:\n",
      "Test Statistic                  -3.402967\n",
      "p-value                          0.010858\n",
      "#Lags Used                       8.000000\n",
      "Number of Observations Used    178.000000\n",
      "Critical Value (1%)             -3.467632\n",
      "Critical Value (5%)             -2.877918\n",
      "Critical Value (10%)            -2.575501\n",
      "dtype: float64\n"
     ]
    }
   ],
   "source": [
    "adf_test(df_2[\"d_new_diff\"].dropna())"
   ]
  },
  {
   "cell_type": "markdown",
   "id": "9e0eaf44-89e7-40b8-ab82-65ca4fa06b27",
   "metadata": {},
   "source": [
    "Based upon the significance level of 0.05 and the p-value of ADF test, the null hypothesis can be rejected. Hence, the series is stationary."
   ]
  },
  {
   "cell_type": "markdown",
   "id": "01df0173-5c1c-4d0b-a8c5-54f2de0a90e1",
   "metadata": {},
   "source": [
    "## 3.2 KPSS-Test"
   ]
  },
  {
   "cell_type": "code",
   "execution_count": 25,
   "id": "b9ff7a7a-ccc1-4b83-8883-c04b9daf3d67",
   "metadata": {},
   "outputs": [
    {
     "name": "stdout",
     "output_type": "stream",
     "text": [
      "Results of KPSS Test:\n",
      "Test Statistic             0.328316\n",
      "p-value                    0.100000\n",
      "Lags Used                119.000000\n",
      "Critical Value (10%)       0.347000\n",
      "Critical Value (5%)        0.463000\n",
      "Critical Value (2.5%)      0.574000\n",
      "Critical Value (1%)        0.739000\n",
      "dtype: float64\n"
     ]
    },
    {
     "name": "stderr",
     "output_type": "stream",
     "text": [
      "/Users/maximbuz/Anaconda/anaconda3/lib/python3.8/site-packages/statsmodels/tsa/stattools.py:1910: InterpolationWarning: The test statistic is outside of the range of p-values available in the\n",
      "look-up table. The actual p-value is greater than the p-value returned.\n",
      "\n",
      "  warnings.warn(\n"
     ]
    }
   ],
   "source": [
    "kpss_test(df_2[\"d_new_pct\"].dropna())"
   ]
  },
  {
   "cell_type": "markdown",
   "id": "4137a4dc-915e-4dc6-ad69-d1732c6e52b0",
   "metadata": {},
   "source": [
    "Based upon the significance level of 0.05 and the p-value of KPSS test, there is no evidence for rejecting the null hypothesis in favor of the alternative. Hence, the series is stationary as per the KPSS test."
   ]
  },
  {
   "cell_type": "code",
   "execution_count": 26,
   "id": "c355cd1c-a5c7-4d52-a382-e99bea14b32b",
   "metadata": {},
   "outputs": [
    {
     "name": "stdout",
     "output_type": "stream",
     "text": [
      "Results of KPSS Test:\n",
      "Test Statistic            0.371154\n",
      "p-value                   0.089589\n",
      "Lags Used                23.000000\n",
      "Critical Value (10%)      0.347000\n",
      "Critical Value (5%)       0.463000\n",
      "Critical Value (2.5%)     0.574000\n",
      "Critical Value (1%)       0.739000\n",
      "dtype: float64\n"
     ]
    }
   ],
   "source": [
    "kpss_test(df_2[\"d_new_log\"].dropna())"
   ]
  },
  {
   "cell_type": "markdown",
   "id": "3a355624-1dee-4668-8a6f-1985e89cdfaa",
   "metadata": {},
   "source": [
    "Based upon the significance level of 0.05 and the p-value of KPSS test, there is no evidence for rejecting the null hypothesis in favor of the alternative. Hence, the series is stationary as per the KPSS test."
   ]
  },
  {
   "cell_type": "code",
   "execution_count": 27,
   "id": "4d0dd194-492f-47ea-ace5-b9e53cf6bce2",
   "metadata": {},
   "outputs": [
    {
     "name": "stdout",
     "output_type": "stream",
     "text": [
      "Results of KPSS Test:\n",
      "Test Statistic            0.164565\n",
      "p-value                   0.100000\n",
      "Lags Used                21.000000\n",
      "Critical Value (10%)      0.347000\n",
      "Critical Value (5%)       0.463000\n",
      "Critical Value (2.5%)     0.574000\n",
      "Critical Value (1%)       0.739000\n",
      "dtype: float64\n"
     ]
    },
    {
     "name": "stderr",
     "output_type": "stream",
     "text": [
      "/Users/maximbuz/Anaconda/anaconda3/lib/python3.8/site-packages/statsmodels/tsa/stattools.py:1910: InterpolationWarning: The test statistic is outside of the range of p-values available in the\n",
      "look-up table. The actual p-value is greater than the p-value returned.\n",
      "\n",
      "  warnings.warn(\n"
     ]
    }
   ],
   "source": [
    "kpss_test(df_2[\"d_new_diff\"].dropna())"
   ]
  },
  {
   "cell_type": "markdown",
   "id": "196a475c-4fa3-474b-954a-f2be32ef9edf",
   "metadata": {},
   "source": [
    "Based upon the significance level of 0.05 and the p-value of KPSS test, there is no evidence for rejecting the null hypothesis in favor of the alternative. Hence, the series is stationary as per the KPSS test."
   ]
  },
  {
   "cell_type": "markdown",
   "id": "3d416d23-7bf7-4b2c-8e60-4c5fb86c2e60",
   "metadata": {},
   "source": [
    "# 4. Containment Index auf Stationarität prüfen"
   ]
  },
  {
   "cell_type": "markdown",
   "id": "b4d0e492-235a-4361-88e6-d045935c59fa",
   "metadata": {},
   "source": [
    "## 4.1 ADF-Test"
   ]
  },
  {
   "cell_type": "code",
   "execution_count": 28,
   "id": "eadc1c35-e44d-416a-8464-61b6caed3a58",
   "metadata": {},
   "outputs": [
    {
     "name": "stdout",
     "output_type": "stream",
     "text": [
      "Results of Dickey-Fuller Test:\n",
      "Test Statistic                -1.209929e+01\n",
      "p-value                        2.036010e-22\n",
      "#Lags Used                     0.000000e+00\n",
      "Number of Observations Used    1.860000e+02\n",
      "Critical Value (1%)           -3.466005e+00\n",
      "Critical Value (5%)           -2.877208e+00\n",
      "Critical Value (10%)          -2.575122e+00\n",
      "dtype: float64\n"
     ]
    }
   ],
   "source": [
    "adf_test(df_2[\"d_containment_pct\"].dropna())"
   ]
  },
  {
   "cell_type": "markdown",
   "id": "f393740e-0221-47ac-8fe7-da5aabbdaa4b",
   "metadata": {},
   "source": [
    "Based upon the significance level of 0.05 and the p-value of ADF test, the null hypothesis can be rejected. Hence, the series is stationary."
   ]
  },
  {
   "cell_type": "code",
   "execution_count": 29,
   "id": "cdb5bb95-1100-44f4-94dd-ba906fd63b00",
   "metadata": {},
   "outputs": [
    {
     "name": "stdout",
     "output_type": "stream",
     "text": [
      "Results of Dickey-Fuller Test:\n",
      "Test Statistic                -1.204503e+01\n",
      "p-value                        2.677309e-22\n",
      "#Lags Used                     0.000000e+00\n",
      "Number of Observations Used    1.860000e+02\n",
      "Critical Value (1%)           -3.466005e+00\n",
      "Critical Value (5%)           -2.877208e+00\n",
      "Critical Value (10%)          -2.575122e+00\n",
      "dtype: float64\n"
     ]
    }
   ],
   "source": [
    "adf_test(df_2[\"d_containment_diff\"].dropna())"
   ]
  },
  {
   "cell_type": "markdown",
   "id": "acd69d7e-54fb-49d2-aa82-a2aadd0f5b02",
   "metadata": {},
   "source": [
    "Based upon the significance level of 0.05 and the p-value of ADF test, the null hypothesis can be rejected. Hence, the series is stationary."
   ]
  },
  {
   "cell_type": "markdown",
   "id": "637f36d8-6e23-483b-b5b4-1a10402a6f60",
   "metadata": {},
   "source": [
    "## 4.2 KPSS-Test"
   ]
  },
  {
   "cell_type": "code",
   "execution_count": 30,
   "id": "b78a0bbc-84be-4173-bdc0-7994045cf996",
   "metadata": {},
   "outputs": [
    {
     "name": "stdout",
     "output_type": "stream",
     "text": [
      "Results of KPSS Test:\n",
      "Test Statistic           0.19436\n",
      "p-value                  0.10000\n",
      "Lags Used                0.00000\n",
      "Critical Value (10%)     0.34700\n",
      "Critical Value (5%)      0.46300\n",
      "Critical Value (2.5%)    0.57400\n",
      "Critical Value (1%)      0.73900\n",
      "dtype: float64\n"
     ]
    },
    {
     "name": "stderr",
     "output_type": "stream",
     "text": [
      "/Users/maximbuz/Anaconda/anaconda3/lib/python3.8/site-packages/statsmodels/tsa/stattools.py:1910: InterpolationWarning: The test statistic is outside of the range of p-values available in the\n",
      "look-up table. The actual p-value is greater than the p-value returned.\n",
      "\n",
      "  warnings.warn(\n"
     ]
    }
   ],
   "source": [
    "kpss_test(df_2[\"d_containment_pct\"].dropna())"
   ]
  },
  {
   "cell_type": "markdown",
   "id": "7ae32978-f55c-461f-8698-40362c5b1010",
   "metadata": {},
   "source": [
    "Based upon the significance level of 0.05 and the p-value of KPSS test, there is no evidence for rejecting the null hypothesis in favor of the alternative. Hence, the series is stationary as per the KPSS test."
   ]
  },
  {
   "cell_type": "code",
   "execution_count": 31,
   "id": "84b6212a-8608-4dbe-8c4d-aeaf2ca9bd49",
   "metadata": {},
   "outputs": [
    {
     "name": "stdout",
     "output_type": "stream",
     "text": [
      "Results of KPSS Test:\n",
      "Test Statistic           0.161665\n",
      "p-value                  0.100000\n",
      "Lags Used                0.000000\n",
      "Critical Value (10%)     0.347000\n",
      "Critical Value (5%)      0.463000\n",
      "Critical Value (2.5%)    0.574000\n",
      "Critical Value (1%)      0.739000\n",
      "dtype: float64\n"
     ]
    },
    {
     "name": "stderr",
     "output_type": "stream",
     "text": [
      "/Users/maximbuz/Anaconda/anaconda3/lib/python3.8/site-packages/statsmodels/tsa/stattools.py:1910: InterpolationWarning: The test statistic is outside of the range of p-values available in the\n",
      "look-up table. The actual p-value is greater than the p-value returned.\n",
      "\n",
      "  warnings.warn(\n"
     ]
    }
   ],
   "source": [
    "kpss_test(df_2[\"d_containment_diff\"].dropna())"
   ]
  },
  {
   "cell_type": "markdown",
   "id": "463c64ce-90b6-4d62-8b52-0defc0af2f5e",
   "metadata": {},
   "source": [
    "Based upon the significance level of 0.05 and the p-value of KPSS test, there is no evidence for rejecting the null hypothesis in favor of the alternative. Hence, the series is stationary as per the KPSS test.\n",
    "\n"
   ]
  },
  {
   "cell_type": "markdown",
   "id": "8518c7c2-0c71-4206-9847-9ca064d7dc1b",
   "metadata": {
    "tags": []
   },
   "source": [
    "# 5 Zusammenfassung"
   ]
  },
  {
   "cell_type": "code",
   "execution_count": 43,
   "id": "dbede2e2-e3ca-4625-bffa-2f45ea0c63e7",
   "metadata": {},
   "outputs": [
    {
     "data": {
      "text/plain": [
       "['d_close_pct',\n",
       " 'd_close_log',\n",
       " 'd_close_diff',\n",
       " 'd_total_pct',\n",
       " 'd_total_log',\n",
       " 'd_total_diff',\n",
       " 'd_new_pct',\n",
       " 'd_new_log',\n",
       " 'd_new_diff',\n",
       " 'd_containment_pct',\n",
       " 'd_containment_log',\n",
       " 'd_containment_diff']"
      ]
     },
     "execution_count": 43,
     "metadata": {},
     "output_type": "execute_result"
    }
   ],
   "source": [
    "\n",
    "list(df_2.loc[:, \"d_close_pct\": \"d_containment_diff\"].columns)"
   ]
  },
  {
   "cell_type": "code",
   "execution_count": 63,
   "id": "f1781343-136e-4566-8ef4-cb249d1d8dd0",
   "metadata": {},
   "outputs": [],
   "source": [
    "def kpss_stationarity(p_value):\n",
    "    if p_value <= 0.05:\n",
    "        return \"Non-Stationary\"\n",
    "    else:\n",
    "        return \"Stationary\"\n",
    "    \n",
    "    \n",
    "def kpss_p_value(timeseries):\n",
    "    kpsstest = kpss(timeseries, regression=\"c\", nlags=\"auto\")\n",
    "    kpss_output = kpsstest[1]\n",
    "    return kpss_output\n",
    "\n",
    "\n",
    "\n",
    "\n",
    "def adf_stationarity(p_value):\n",
    "    if p_value <= 0.05:\n",
    "        return \"Stationary\"\n",
    "    else:\n",
    "        return \"Non-Stationary\"\n",
    "\n",
    "def adf_p_value(timeseries):\n",
    "    dftest = adfuller(timeseries, autolag=\"AIC\")\n",
    "    dfoutput = dftest[1]\n",
    "    return dfoutput\n"
   ]
  },
  {
   "cell_type": "code",
   "execution_count": 66,
   "id": "afcd7b29-9796-43c7-b896-628b1fb0b123",
   "metadata": {},
   "outputs": [
    {
     "name": "stderr",
     "output_type": "stream",
     "text": [
      "/Users/maximbuz/Anaconda/anaconda3/lib/python3.8/site-packages/statsmodels/tsa/stattools.py:1910: InterpolationWarning: The test statistic is outside of the range of p-values available in the\n",
      "look-up table. The actual p-value is greater than the p-value returned.\n",
      "\n",
      "  warnings.warn(\n",
      "/Users/maximbuz/Anaconda/anaconda3/lib/python3.8/site-packages/statsmodels/tsa/stattools.py:1910: InterpolationWarning: The test statistic is outside of the range of p-values available in the\n",
      "look-up table. The actual p-value is greater than the p-value returned.\n",
      "\n",
      "  warnings.warn(\n",
      "/Users/maximbuz/Anaconda/anaconda3/lib/python3.8/site-packages/statsmodels/tsa/stattools.py:1910: InterpolationWarning: The test statistic is outside of the range of p-values available in the\n",
      "look-up table. The actual p-value is greater than the p-value returned.\n",
      "\n",
      "  warnings.warn(\n",
      "/Users/maximbuz/Anaconda/anaconda3/lib/python3.8/site-packages/statsmodels/tsa/stattools.py:1906: InterpolationWarning: The test statistic is outside of the range of p-values available in the\n",
      "look-up table. The actual p-value is smaller than the p-value returned.\n",
      "\n",
      "  warnings.warn(\n",
      "/Users/maximbuz/Anaconda/anaconda3/lib/python3.8/site-packages/statsmodels/tsa/stattools.py:1906: InterpolationWarning: The test statistic is outside of the range of p-values available in the\n",
      "look-up table. The actual p-value is smaller than the p-value returned.\n",
      "\n",
      "  warnings.warn(\n",
      "/Users/maximbuz/Anaconda/anaconda3/lib/python3.8/site-packages/statsmodels/tsa/stattools.py:1910: InterpolationWarning: The test statistic is outside of the range of p-values available in the\n",
      "look-up table. The actual p-value is greater than the p-value returned.\n",
      "\n",
      "  warnings.warn(\n",
      "/Users/maximbuz/Anaconda/anaconda3/lib/python3.8/site-packages/statsmodels/tsa/stattools.py:1910: InterpolationWarning: The test statistic is outside of the range of p-values available in the\n",
      "look-up table. The actual p-value is greater than the p-value returned.\n",
      "\n",
      "  warnings.warn(\n",
      "/Users/maximbuz/Anaconda/anaconda3/lib/python3.8/site-packages/statsmodels/tsa/stattools.py:1910: InterpolationWarning: The test statistic is outside of the range of p-values available in the\n",
      "look-up table. The actual p-value is greater than the p-value returned.\n",
      "\n",
      "  warnings.warn(\n",
      "/Users/maximbuz/Anaconda/anaconda3/lib/python3.8/site-packages/statsmodels/tsa/stattools.py:1910: InterpolationWarning: The test statistic is outside of the range of p-values available in the\n",
      "look-up table. The actual p-value is greater than the p-value returned.\n",
      "\n",
      "  warnings.warn(\n",
      "/Users/maximbuz/Anaconda/anaconda3/lib/python3.8/site-packages/statsmodels/tsa/stattools.py:1910: InterpolationWarning: The test statistic is outside of the range of p-values available in the\n",
      "look-up table. The actual p-value is greater than the p-value returned.\n",
      "\n",
      "  warnings.warn(\n"
     ]
    }
   ],
   "source": [
    "results = pd.DataFrame({\"Timeseries\": list(df_2.loc[:, \"d_close_pct\": \"d_containment_diff\"].columns),\n",
    "                        \"KPSS p-Value\": [kpss_p_value(df_2[column].dropna()) for column in list(df_2.loc[:, \"d_close_pct\": \"d_containment_diff\"].columns)],\n",
    "                        \"ADF p-Value\": [adf_p_value(df_2[column].dropna()) for column in list(df_2.loc[:, \"d_close_pct\": \"d_containment_diff\"].columns)]})"
   ]
  },
  {
   "cell_type": "code",
   "execution_count": 68,
   "id": "a5ee5b99-daf8-4b10-8ce9-93c2bcfcb6fc",
   "metadata": {},
   "outputs": [],
   "source": [
    "results[\"KPSS Stationarity\"] = results[\"KPSS p-Value\"].apply(kpss_stationarity)\n",
    "results[\"ADF Stationarity\"] = results[\"ADF p-Value\"].apply(adf_stationarity)"
   ]
  },
  {
   "cell_type": "code",
   "execution_count": 69,
   "id": "acd20fc7-efaf-4f00-b384-3a597567345d",
   "metadata": {},
   "outputs": [
    {
     "data": {
      "text/html": [
       "<div>\n",
       "<style scoped>\n",
       "    .dataframe tbody tr th:only-of-type {\n",
       "        vertical-align: middle;\n",
       "    }\n",
       "\n",
       "    .dataframe tbody tr th {\n",
       "        vertical-align: top;\n",
       "    }\n",
       "\n",
       "    .dataframe thead th {\n",
       "        text-align: right;\n",
       "    }\n",
       "</style>\n",
       "<table border=\"1\" class=\"dataframe\">\n",
       "  <thead>\n",
       "    <tr style=\"text-align: right;\">\n",
       "      <th></th>\n",
       "      <th>Timeseries</th>\n",
       "      <th>KPSS p-Value</th>\n",
       "      <th>ADF p-Value</th>\n",
       "      <th>KPSS Stationarity</th>\n",
       "      <th>ADF Stationarity</th>\n",
       "    </tr>\n",
       "  </thead>\n",
       "  <tbody>\n",
       "    <tr>\n",
       "      <th>0</th>\n",
       "      <td>d_close_pct</td>\n",
       "      <td>0.100000</td>\n",
       "      <td>1.775296e-13</td>\n",
       "      <td>Stationary</td>\n",
       "      <td>Stationary</td>\n",
       "    </tr>\n",
       "    <tr>\n",
       "      <th>1</th>\n",
       "      <td>d_close_log</td>\n",
       "      <td>0.100000</td>\n",
       "      <td>1.820694e-13</td>\n",
       "      <td>Stationary</td>\n",
       "      <td>Stationary</td>\n",
       "    </tr>\n",
       "    <tr>\n",
       "      <th>2</th>\n",
       "      <td>d_close_diff</td>\n",
       "      <td>0.100000</td>\n",
       "      <td>1.101457e-14</td>\n",
       "      <td>Stationary</td>\n",
       "      <td>Stationary</td>\n",
       "    </tr>\n",
       "    <tr>\n",
       "      <th>3</th>\n",
       "      <td>d_total_pct</td>\n",
       "      <td>0.010000</td>\n",
       "      <td>3.181772e-01</td>\n",
       "      <td>Non-Stationary</td>\n",
       "      <td>Non-Stationary</td>\n",
       "    </tr>\n",
       "    <tr>\n",
       "      <th>4</th>\n",
       "      <td>d_total_log</td>\n",
       "      <td>0.010000</td>\n",
       "      <td>3.149767e-01</td>\n",
       "      <td>Non-Stationary</td>\n",
       "      <td>Non-Stationary</td>\n",
       "    </tr>\n",
       "    <tr>\n",
       "      <th>5</th>\n",
       "      <td>d_total_diff</td>\n",
       "      <td>0.064200</td>\n",
       "      <td>1.782595e-01</td>\n",
       "      <td>Stationary</td>\n",
       "      <td>Non-Stationary</td>\n",
       "    </tr>\n",
       "    <tr>\n",
       "      <th>6</th>\n",
       "      <td>d_new_pct</td>\n",
       "      <td>0.100000</td>\n",
       "      <td>1.484397e-03</td>\n",
       "      <td>Stationary</td>\n",
       "      <td>Stationary</td>\n",
       "    </tr>\n",
       "    <tr>\n",
       "      <th>7</th>\n",
       "      <td>d_new_log</td>\n",
       "      <td>0.089589</td>\n",
       "      <td>1.844562e-01</td>\n",
       "      <td>Stationary</td>\n",
       "      <td>Non-Stationary</td>\n",
       "    </tr>\n",
       "    <tr>\n",
       "      <th>8</th>\n",
       "      <td>d_new_diff</td>\n",
       "      <td>0.100000</td>\n",
       "      <td>1.085813e-02</td>\n",
       "      <td>Stationary</td>\n",
       "      <td>Stationary</td>\n",
       "    </tr>\n",
       "    <tr>\n",
       "      <th>9</th>\n",
       "      <td>d_containment_pct</td>\n",
       "      <td>0.100000</td>\n",
       "      <td>2.036010e-22</td>\n",
       "      <td>Stationary</td>\n",
       "      <td>Stationary</td>\n",
       "    </tr>\n",
       "    <tr>\n",
       "      <th>10</th>\n",
       "      <td>d_containment_log</td>\n",
       "      <td>0.100000</td>\n",
       "      <td>1.716506e-22</td>\n",
       "      <td>Stationary</td>\n",
       "      <td>Stationary</td>\n",
       "    </tr>\n",
       "    <tr>\n",
       "      <th>11</th>\n",
       "      <td>d_containment_diff</td>\n",
       "      <td>0.100000</td>\n",
       "      <td>2.677309e-22</td>\n",
       "      <td>Stationary</td>\n",
       "      <td>Stationary</td>\n",
       "    </tr>\n",
       "  </tbody>\n",
       "</table>\n",
       "</div>"
      ],
      "text/plain": [
       "            Timeseries  KPSS p-Value   ADF p-Value KPSS Stationarity  \\\n",
       "0          d_close_pct      0.100000  1.775296e-13        Stationary   \n",
       "1          d_close_log      0.100000  1.820694e-13        Stationary   \n",
       "2         d_close_diff      0.100000  1.101457e-14        Stationary   \n",
       "3          d_total_pct      0.010000  3.181772e-01    Non-Stationary   \n",
       "4          d_total_log      0.010000  3.149767e-01    Non-Stationary   \n",
       "5         d_total_diff      0.064200  1.782595e-01        Stationary   \n",
       "6            d_new_pct      0.100000  1.484397e-03        Stationary   \n",
       "7            d_new_log      0.089589  1.844562e-01        Stationary   \n",
       "8           d_new_diff      0.100000  1.085813e-02        Stationary   \n",
       "9    d_containment_pct      0.100000  2.036010e-22        Stationary   \n",
       "10   d_containment_log      0.100000  1.716506e-22        Stationary   \n",
       "11  d_containment_diff      0.100000  2.677309e-22        Stationary   \n",
       "\n",
       "   ADF Stationarity  \n",
       "0        Stationary  \n",
       "1        Stationary  \n",
       "2        Stationary  \n",
       "3    Non-Stationary  \n",
       "4    Non-Stationary  \n",
       "5    Non-Stationary  \n",
       "6        Stationary  \n",
       "7    Non-Stationary  \n",
       "8        Stationary  \n",
       "9        Stationary  \n",
       "10       Stationary  \n",
       "11       Stationary  "
      ]
     },
     "execution_count": 69,
     "metadata": {},
     "output_type": "execute_result"
    }
   ],
   "source": [
    "results"
   ]
  }
 ],
 "metadata": {
  "kernelspec": {
   "display_name": "Python 3",
   "language": "python",
   "name": "python3"
  },
  "language_info": {
   "codemirror_mode": {
    "name": "ipython",
    "version": 3
   },
   "file_extension": ".py",
   "mimetype": "text/x-python",
   "name": "python",
   "nbconvert_exporter": "python",
   "pygments_lexer": "ipython3",
   "version": "3.8.8"
  }
 },
 "nbformat": 4,
 "nbformat_minor": 5
}
